{
 "cells": [
  {
   "cell_type": "markdown",
   "metadata": {},
   "source": [
    "# Tree-based models - Learning notebook"
   ]
  },
  {
   "cell_type": "markdown",
   "metadata": {},
   "source": [
    "## Imports"
   ]
  },
  {
   "cell_type": "code",
   "execution_count": 1,
   "metadata": {},
   "outputs": [],
   "source": [
    "from math import log2\n",
    "\n",
    "import pandas as pd\n",
    "import numpy as np\n",
    "\n",
    "from sklearn.datasets import load_boston\n",
    "from sklearn.ensemble import RandomForestClassifier, GradientBoostingClassifier\n",
    "from sklearn.metrics import mean_squared_error\n",
    "from sklearn.tree import DecisionTreeClassifier, DecisionTreeRegressor\n",
    "from IPython.display import Image\n",
    "\n",
    "from utils.utils import *"
   ]
  },
  {
   "cell_type": "markdown",
   "metadata": {},
   "source": [
    "# Table of Contents\n",
    "\n",
    "1. [Decision trees](#decision-trees)\n",
    "2. [Tree-based ensembles](#tree-based-ensembles)\n",
    "3. [Bagging with random forests](#bagging-with-random-forests)\n",
    "4. [Boosting with gradient boosting](#boosting-with-gradient-boosting)\n",
    "\n",
    "# Decision trees\n",
    "\n",
    "Knowledge-based systems represent knowledge explicitly, as a set of rules, rather than being implicit in algorithms. \n",
    "\n",
    "Imagine we want to decide whether to go hicking based on the weather, then our acquired knowledge can be represented as:\n",
    "\n",
    "<img src=\"assets/simple-decision-tree.png\" alt=\"simple-decision-tree\" style=\"width: 600px;\"/>\n",
    "\n",
    "*Fig. 1: A simple decision-tree used for classification (Quinlan, 1986).*\n",
    "\n",
    "This particular structure, a **decision-tree**, displays a flow of conditional statements (i.e., `if Condition then Outcome`) where:\n",
    "\n",
    "* Each **node** represents a test on a feature\n",
    "* Each **branch** represents the outcome of the test\n",
    "* Each **leaf** represents the outcome or decision.\n",
    "\n",
    "The paths from root to leaf represent the rules, e.g., `if Outlook is Sunny and Humidity is Normal then Go Hicking`.\n",
    "\n",
    "Pioneering knowledge-based expert systems codified rules coming from domain specialists, at the rate of a few rules per man day.\n",
    "\n",
    "But complex tasks require creating and maintaining thousands of such rules, turning the \"interview approach\" into a bottleneck.\n",
    "\n",
    "## Learning rule-sets as decision trees\n",
    "\n",
    "This perception stimulated the investigation of general-purpose machine learning methods to build knowledge-based sytems.\n",
    "\n",
    "The resulting systems address the underlying task of learning simple rules, inducing decision trees from examples.\n",
    "\n",
    "Typically, a decision tree is developed from the top-down (known as top-down induction), guided by frequency information.\n",
    "\n",
    "From there, there are a number of tree algorithms, including:\n",
    "* **Iterative Dichotomiser 3 (ID3)**, for classification using categorical features\n",
    "* **C4.5**, extends ID3 to support non-categorical features\n",
    "* **Classification and Regression Trees (CART)**, generalizes C4.5 to support regression.\n",
    "\n",
    "We follow ID3 ([Quinlan, 1986][1]), for binary classification using categorical features with a small set of possible values (i.e., low cardinality).\n",
    "\n",
    "[1]: http://hunch.net/~coms-4771/quinlan.pdf \"Quinlan, J. 1986. Induction of Decision Trees. Machine Learning 1: 81-106.\""
   ]
  },
  {
   "cell_type": "code",
   "execution_count": 2,
   "metadata": {},
   "outputs": [],
   "source": [
    "data = make_data()"
   ]
  },
  {
   "cell_type": "markdown",
   "metadata": {},
   "source": [
    "### Algorithm overview\n",
    "\n",
    "Take an arbitrary training set $C = \\{x_i, y_i\\}_{i=1}^m$, a collection of labeled observations, so as $y_i \\in \\{L_1, \\dots, L_v\\}$.\n",
    "\n",
    "The features vector is represented as $x_i = \\{x_i^{(1)}, \\dots, x_i^{(n)}\\}$, where $x_i^{(j)}$ is the value of the $j$-th feature for the $i$-th observation.\n",
    "\n",
    "In ID3, $x_i^{(j)}$ can take on one of a fixed number of possible values $x_i^{(j)} \\in \\{A_1^{(j)}, \\dots, A_w^{(j)}\\}$.\n",
    "\n",
    "$$X = \\begin{bmatrix}\n",
    "  x_1^{(1)} & x_1^{(2)} & \\dots & x_1^{(n)} \\\\\n",
    "  x_2^{(1)} & x_2^{(2)} & \\dots & x_2^{(n)} \\\\\n",
    "  \\dots     & \\dots     & \\dots & \\dots     \\\\\n",
    "  x_m^{(1)} & x_m^{(2)} & \\dots & x_m^{(n)}\n",
    " \\end{bmatrix}$$"
   ]
  },
  {
   "cell_type": "code",
   "execution_count": 3,
   "metadata": {},
   "outputs": [
    {
     "data": {
      "text/html": [
       "<div>\n",
       "<style scoped>\n",
       "    .dataframe tbody tr th:only-of-type {\n",
       "        vertical-align: middle;\n",
       "    }\n",
       "\n",
       "    .dataframe tbody tr th {\n",
       "        vertical-align: top;\n",
       "    }\n",
       "\n",
       "    .dataframe thead th {\n",
       "        text-align: right;\n",
       "    }\n",
       "</style>\n",
       "<table border=\"1\" class=\"dataframe\">\n",
       "  <thead>\n",
       "    <tr style=\"text-align: right;\">\n",
       "      <th></th>\n",
       "      <th>Outlook</th>\n",
       "      <th>Temperature</th>\n",
       "      <th>Humidity</th>\n",
       "      <th>Windy</th>\n",
       "    </tr>\n",
       "  </thead>\n",
       "  <tbody>\n",
       "    <tr>\n",
       "      <th>0</th>\n",
       "      <td>sunny</td>\n",
       "      <td>hot</td>\n",
       "      <td>high</td>\n",
       "      <td>false</td>\n",
       "    </tr>\n",
       "    <tr>\n",
       "      <th>1</th>\n",
       "      <td>sunny</td>\n",
       "      <td>hot</td>\n",
       "      <td>high</td>\n",
       "      <td>true</td>\n",
       "    </tr>\n",
       "    <tr>\n",
       "      <th>2</th>\n",
       "      <td>overcast</td>\n",
       "      <td>hot</td>\n",
       "      <td>high</td>\n",
       "      <td>false</td>\n",
       "    </tr>\n",
       "    <tr>\n",
       "      <th>3</th>\n",
       "      <td>rain</td>\n",
       "      <td>mild</td>\n",
       "      <td>high</td>\n",
       "      <td>false</td>\n",
       "    </tr>\n",
       "    <tr>\n",
       "      <th>4</th>\n",
       "      <td>rain</td>\n",
       "      <td>cool</td>\n",
       "      <td>normal</td>\n",
       "      <td>false</td>\n",
       "    </tr>\n",
       "    <tr>\n",
       "      <th>5</th>\n",
       "      <td>rain</td>\n",
       "      <td>cool</td>\n",
       "      <td>normal</td>\n",
       "      <td>false</td>\n",
       "    </tr>\n",
       "    <tr>\n",
       "      <th>6</th>\n",
       "      <td>overcast</td>\n",
       "      <td>cool</td>\n",
       "      <td>normal</td>\n",
       "      <td>false</td>\n",
       "    </tr>\n",
       "    <tr>\n",
       "      <th>7</th>\n",
       "      <td>sunny</td>\n",
       "      <td>mild</td>\n",
       "      <td>high</td>\n",
       "      <td>false</td>\n",
       "    </tr>\n",
       "    <tr>\n",
       "      <th>8</th>\n",
       "      <td>sunny</td>\n",
       "      <td>cool</td>\n",
       "      <td>normal</td>\n",
       "      <td>false</td>\n",
       "    </tr>\n",
       "    <tr>\n",
       "      <th>9</th>\n",
       "      <td>rain</td>\n",
       "      <td>mild</td>\n",
       "      <td>normal</td>\n",
       "      <td>false</td>\n",
       "    </tr>\n",
       "    <tr>\n",
       "      <th>10</th>\n",
       "      <td>sunny</td>\n",
       "      <td>mild</td>\n",
       "      <td>normal</td>\n",
       "      <td>true</td>\n",
       "    </tr>\n",
       "    <tr>\n",
       "      <th>11</th>\n",
       "      <td>overcast</td>\n",
       "      <td>mild</td>\n",
       "      <td>high</td>\n",
       "      <td>true</td>\n",
       "    </tr>\n",
       "    <tr>\n",
       "      <th>12</th>\n",
       "      <td>overcast</td>\n",
       "      <td>hot</td>\n",
       "      <td>normal</td>\n",
       "      <td>false</td>\n",
       "    </tr>\n",
       "    <tr>\n",
       "      <th>13</th>\n",
       "      <td>rain</td>\n",
       "      <td>mild</td>\n",
       "      <td>high</td>\n",
       "      <td>true</td>\n",
       "    </tr>\n",
       "  </tbody>\n",
       "</table>\n",
       "</div>"
      ],
      "text/plain": [
       "     Outlook Temperature Humidity  Windy\n",
       "0      sunny         hot     high  false\n",
       "1      sunny         hot     high   true\n",
       "2   overcast         hot     high  false\n",
       "3       rain        mild     high  false\n",
       "4       rain        cool   normal  false\n",
       "5       rain        cool   normal  false\n",
       "6   overcast        cool   normal  false\n",
       "7      sunny        mild     high  false\n",
       "8      sunny        cool   normal  false\n",
       "9       rain        mild   normal  false\n",
       "10     sunny        mild   normal   true\n",
       "11  overcast        mild     high   true\n",
       "12  overcast         hot   normal  false\n",
       "13      rain        mild     high   true"
      ]
     },
     "execution_count": 3,
     "metadata": {},
     "output_type": "execute_result"
    }
   ],
   "source": [
    "X, y = separate_target_variable(data)\n",
    "\n",
    "X"
   ]
  },
  {
   "cell_type": "markdown",
   "metadata": {},
   "source": [
    "This is a binary classification problem, where $y_i \\in \\{0, 1\\}.$\n",
    "\n",
    "$$y = \\begin{bmatrix}\n",
    "  y_1   \\\\\n",
    "  y_2   \\\\\n",
    "  \\dots \\\\\n",
    "  y_3 \n",
    " \\end{bmatrix}$$"
   ]
  },
  {
   "cell_type": "code",
   "execution_count": 4,
   "metadata": {},
   "outputs": [
    {
     "data": {
      "text/plain": [
       "0     0\n",
       "1     0\n",
       "2     1\n",
       "3     1\n",
       "4     1\n",
       "5     0\n",
       "6     1\n",
       "7     0\n",
       "8     1\n",
       "9     1\n",
       "10    1\n",
       "11    1\n",
       "12    1\n",
       "13    0\n",
       "Name: Class, dtype: int64"
      ]
     },
     "execution_count": 4,
     "metadata": {},
     "output_type": "execute_result"
    }
   ],
   "source": [
    "y"
   ]
  },
  {
   "cell_type": "markdown",
   "metadata": {},
   "source": [
    "Now, imagine a test, $T$, on $x_i$, with possible outcomes $O_1, O_2, \\dots, O_w$. \n",
    "\n",
    "It can be a condition on the features, for example.\n",
    "\n",
    "$T$ produces a partition $\\{C_1, C_2, \\dots, C_w\\}$ of $C$, where $C_k$ contains those observations having outcome $O_k$.\n",
    "\n",
    "<img src=\"assets/test-partitioning.png\" alt=\"test_partitioning\" style=\"width: 600px;\"/>\n",
    "\n",
    "*Fig. 2: Partitioning of the objects in $C$ with a test $T$ (Quinlan, 1986).*\n",
    "\n",
    "If each subset $C_k$ is replaced by a new decision-tree, the result would be a decision-tree for all of $C$.\n",
    "\n",
    "Therefore, we recursively repeat the process in each partition until we get homogenous (i.e., single-class) leafs:\n",
    "\n",
    "```\n",
    "ID3 (Data, Target, Attributes)\n",
    "    If all examples are positive, Return the single-node tree Root, with label = 1.\n",
    "    If all examples are negative, Return the single-node tree Root, with label = 0.\n",
    "    Otherwise Begin\n",
    "        A <- Pick the Attribute that best classifies examples.\n",
    "        Decision tree for Root = A.\n",
    "        For each possible value, v_i, of A,\n",
    "            Add a new tree branch, corresponding to the test A = v_i.\n",
    "            Let Data(v_i) be the subset of examples that have the value v_i for A.\n",
    "            Below this new branch add the subtree ID3 (Data(v_i), Target, Attributes – {A}).\n",
    "    End\n",
    "    Return Root\n",
    "```\n",
    "\n",
    "The question being, what exactly do we mean by \"attribute that best classifies examples\"? That with the most information.\n",
    "\n",
    "## Attribute selection\n",
    "\n",
    "**Information** is defined as (absense of) [entropy](https://en.wikipedia.org/wiki/Entropy_(information_theory)): the greater the homogeneity of a set, the lower the entropy.\n",
    "\n",
    "Take $p$ as the probability of the positive class, i.e., the proportion of positive cases in the set.\n",
    "\n",
    "In binary classification (it can be extended to support multi-class settings), the entropy is given by:\n",
    "\n",
    "$$I(p) = - p \\log_2 p - (1 - p) \\log_2 (1-p)$$\n",
    "\n",
    "It ranges between 0 ($p=1$ or $p=0$, i.e., low entropy and high purity) and 1 ($p=\\frac{1}{2}$, i.e., high entropy and low purity)."
   ]
  },
  {
   "cell_type": "code",
   "execution_count": 1,
   "metadata": {},
   "outputs": [],
   "source": [
    "def entropy(p):\n",
    "    if 0 < p < 1:\n",
    "        return -p * log2(p) - (1 - p) * log2(1 - p)\n",
    "    else:\n",
    "        return 0"
   ]
  },
  {
   "cell_type": "code",
   "execution_count": 4,
   "metadata": {},
   "outputs": [
    {
     "ename": "NameError",
     "evalue": "name 'log2' is not defined",
     "output_type": "error",
     "traceback": [
      "\u001b[0;31m---------------------------------------------------------------------------\u001b[0m",
      "\u001b[0;31mNameError\u001b[0m                                 Traceback (most recent call last)",
      "\u001b[0;32m<ipython-input-4-005fce910a59>\u001b[0m in \u001b[0;36m<module>\u001b[0;34m\u001b[0m\n\u001b[0;32m----> 1\u001b[0;31m \u001b[0mentropy\u001b[0m\u001b[0;34m(\u001b[0m\u001b[0;36m0.6\u001b[0m\u001b[0;34m)\u001b[0m\u001b[0;34m\u001b[0m\u001b[0;34m\u001b[0m\u001b[0m\n\u001b[0m",
      "\u001b[0;32m<ipython-input-1-3a1526cf75fe>\u001b[0m in \u001b[0;36mentropy\u001b[0;34m(p)\u001b[0m\n\u001b[1;32m      1\u001b[0m \u001b[0;32mdef\u001b[0m \u001b[0mentropy\u001b[0m\u001b[0;34m(\u001b[0m\u001b[0mp\u001b[0m\u001b[0;34m)\u001b[0m\u001b[0;34m:\u001b[0m\u001b[0;34m\u001b[0m\u001b[0;34m\u001b[0m\u001b[0m\n\u001b[1;32m      2\u001b[0m     \u001b[0;32mif\u001b[0m \u001b[0;36m0\u001b[0m \u001b[0;34m<\u001b[0m \u001b[0mp\u001b[0m \u001b[0;34m<\u001b[0m \u001b[0;36m1\u001b[0m\u001b[0;34m:\u001b[0m\u001b[0;34m\u001b[0m\u001b[0;34m\u001b[0m\u001b[0m\n\u001b[0;32m----> 3\u001b[0;31m         \u001b[0;32mreturn\u001b[0m \u001b[0;34m-\u001b[0m\u001b[0mp\u001b[0m \u001b[0;34m*\u001b[0m \u001b[0mlog2\u001b[0m\u001b[0;34m(\u001b[0m\u001b[0mp\u001b[0m\u001b[0;34m)\u001b[0m \u001b[0;34m-\u001b[0m \u001b[0;34m(\u001b[0m\u001b[0;36m1\u001b[0m \u001b[0;34m-\u001b[0m \u001b[0mp\u001b[0m\u001b[0;34m)\u001b[0m \u001b[0;34m*\u001b[0m \u001b[0mlog2\u001b[0m\u001b[0;34m(\u001b[0m\u001b[0;36m1\u001b[0m \u001b[0;34m-\u001b[0m \u001b[0mp\u001b[0m\u001b[0;34m)\u001b[0m\u001b[0;34m\u001b[0m\u001b[0;34m\u001b[0m\u001b[0m\n\u001b[0m\u001b[1;32m      4\u001b[0m     \u001b[0;32melse\u001b[0m\u001b[0;34m:\u001b[0m\u001b[0;34m\u001b[0m\u001b[0;34m\u001b[0m\u001b[0m\n\u001b[1;32m      5\u001b[0m         \u001b[0;32mreturn\u001b[0m \u001b[0;36m0\u001b[0m\u001b[0;34m\u001b[0m\u001b[0;34m\u001b[0m\u001b[0m\n",
      "\u001b[0;31mNameError\u001b[0m: name 'log2' is not defined"
     ]
    }
   ],
   "source": [
    "entropy(0.6)"
   ]
  },
  {
   "cell_type": "markdown",
   "metadata": {},
   "source": [
    "We compute the entropy for the entire data set."
   ]
  },
  {
   "cell_type": "code",
   "execution_count": 35,
   "metadata": {},
   "outputs": [
    {
     "data": {
      "text/html": [
       "<div>\n",
       "<style scoped>\n",
       "    .dataframe tbody tr th:only-of-type {\n",
       "        vertical-align: middle;\n",
       "    }\n",
       "\n",
       "    .dataframe tbody tr th {\n",
       "        vertical-align: top;\n",
       "    }\n",
       "\n",
       "    .dataframe thead th {\n",
       "        text-align: right;\n",
       "    }\n",
       "</style>\n",
       "<table border=\"1\" class=\"dataframe\">\n",
       "  <thead>\n",
       "    <tr style=\"text-align: right;\">\n",
       "      <th></th>\n",
       "      <th>Outlook</th>\n",
       "      <th>Temperature</th>\n",
       "      <th>Humidity</th>\n",
       "      <th>Windy</th>\n",
       "      <th>Class</th>\n",
       "    </tr>\n",
       "  </thead>\n",
       "  <tbody>\n",
       "    <tr>\n",
       "      <th>0</th>\n",
       "      <td>sunny</td>\n",
       "      <td>hot</td>\n",
       "      <td>high</td>\n",
       "      <td>false</td>\n",
       "      <td>0</td>\n",
       "    </tr>\n",
       "    <tr>\n",
       "      <th>1</th>\n",
       "      <td>sunny</td>\n",
       "      <td>hot</td>\n",
       "      <td>high</td>\n",
       "      <td>true</td>\n",
       "      <td>0</td>\n",
       "    </tr>\n",
       "    <tr>\n",
       "      <th>2</th>\n",
       "      <td>overcast</td>\n",
       "      <td>hot</td>\n",
       "      <td>high</td>\n",
       "      <td>false</td>\n",
       "      <td>1</td>\n",
       "    </tr>\n",
       "    <tr>\n",
       "      <th>3</th>\n",
       "      <td>rain</td>\n",
       "      <td>mild</td>\n",
       "      <td>high</td>\n",
       "      <td>false</td>\n",
       "      <td>1</td>\n",
       "    </tr>\n",
       "    <tr>\n",
       "      <th>4</th>\n",
       "      <td>rain</td>\n",
       "      <td>cool</td>\n",
       "      <td>normal</td>\n",
       "      <td>false</td>\n",
       "      <td>1</td>\n",
       "    </tr>\n",
       "    <tr>\n",
       "      <th>5</th>\n",
       "      <td>rain</td>\n",
       "      <td>cool</td>\n",
       "      <td>normal</td>\n",
       "      <td>false</td>\n",
       "      <td>0</td>\n",
       "    </tr>\n",
       "    <tr>\n",
       "      <th>6</th>\n",
       "      <td>overcast</td>\n",
       "      <td>cool</td>\n",
       "      <td>normal</td>\n",
       "      <td>false</td>\n",
       "      <td>1</td>\n",
       "    </tr>\n",
       "    <tr>\n",
       "      <th>7</th>\n",
       "      <td>sunny</td>\n",
       "      <td>mild</td>\n",
       "      <td>high</td>\n",
       "      <td>false</td>\n",
       "      <td>0</td>\n",
       "    </tr>\n",
       "    <tr>\n",
       "      <th>8</th>\n",
       "      <td>sunny</td>\n",
       "      <td>cool</td>\n",
       "      <td>normal</td>\n",
       "      <td>false</td>\n",
       "      <td>1</td>\n",
       "    </tr>\n",
       "    <tr>\n",
       "      <th>9</th>\n",
       "      <td>rain</td>\n",
       "      <td>mild</td>\n",
       "      <td>normal</td>\n",
       "      <td>false</td>\n",
       "      <td>1</td>\n",
       "    </tr>\n",
       "    <tr>\n",
       "      <th>10</th>\n",
       "      <td>sunny</td>\n",
       "      <td>mild</td>\n",
       "      <td>normal</td>\n",
       "      <td>true</td>\n",
       "      <td>1</td>\n",
       "    </tr>\n",
       "    <tr>\n",
       "      <th>11</th>\n",
       "      <td>overcast</td>\n",
       "      <td>mild</td>\n",
       "      <td>high</td>\n",
       "      <td>true</td>\n",
       "      <td>1</td>\n",
       "    </tr>\n",
       "    <tr>\n",
       "      <th>12</th>\n",
       "      <td>overcast</td>\n",
       "      <td>hot</td>\n",
       "      <td>normal</td>\n",
       "      <td>false</td>\n",
       "      <td>1</td>\n",
       "    </tr>\n",
       "    <tr>\n",
       "      <th>13</th>\n",
       "      <td>rain</td>\n",
       "      <td>mild</td>\n",
       "      <td>high</td>\n",
       "      <td>true</td>\n",
       "      <td>0</td>\n",
       "    </tr>\n",
       "  </tbody>\n",
       "</table>\n",
       "</div>"
      ],
      "text/plain": [
       "     Outlook Temperature Humidity  Windy  Class\n",
       "0      sunny         hot     high  false      0\n",
       "1      sunny         hot     high   true      0\n",
       "2   overcast         hot     high  false      1\n",
       "3       rain        mild     high  false      1\n",
       "4       rain        cool   normal  false      1\n",
       "5       rain        cool   normal  false      0\n",
       "6   overcast        cool   normal  false      1\n",
       "7      sunny        mild     high  false      0\n",
       "8      sunny        cool   normal  false      1\n",
       "9       rain        mild   normal  false      1\n",
       "10     sunny        mild   normal   true      1\n",
       "11  overcast        mild     high   true      1\n",
       "12  overcast         hot   normal  false      1\n",
       "13      rain        mild     high   true      0"
      ]
     },
     "execution_count": 35,
     "metadata": {},
     "output_type": "execute_result"
    }
   ],
   "source": [
    "data"
   ]
  },
  {
   "cell_type": "code",
   "execution_count": 36,
   "metadata": {},
   "outputs": [],
   "source": [
    "def compute_probability(data):\n",
    "    n = data.shape[0]\n",
    "    f = (data['Class'] == 1).sum()\n",
    "\n",
    "    return f / n\n",
    "\n",
    "\n",
    "p = compute_probability(data)"
   ]
  },
  {
   "cell_type": "code",
   "execution_count": 37,
   "metadata": {},
   "outputs": [
    {
     "data": {
      "text/plain": [
       "0.9402859586706311"
      ]
     },
     "execution_count": 37,
     "metadata": {},
     "output_type": "execute_result"
    }
   ],
   "source": [
    "entropy(p)"
   ]
  },
  {
   "cell_type": "code",
   "execution_count": 6,
   "metadata": {},
   "outputs": [],
   "source": [
    "def gini(p):\n",
    "    # YOUR CODE HERE\n",
    "    gini = 1 - p**2 - (1 - p)**2\n",
    "    return gini\n"
   ]
  },
  {
   "cell_type": "code",
   "execution_count": null,
   "metadata": {},
   "outputs": [],
   "source": []
  },
  {
   "cell_type": "markdown",
   "metadata": {},
   "source": [
    "Above, we have the (fairly high) entropy for the entire data set. Out of curiosity, entropy is measured in bits.\n",
    "\n",
    "This means that substancial proportions of the data set belong to each of the classes, as confirmed by the value of $p$."
   ]
  },
  {
   "cell_type": "code",
   "execution_count": 8,
   "metadata": {},
   "outputs": [
    {
     "data": {
      "text/plain": [
       "0.6428571428571429"
      ]
     },
     "execution_count": 8,
     "metadata": {},
     "output_type": "execute_result"
    }
   ],
   "source": [
    "p"
   ]
  },
  {
   "cell_type": "markdown",
   "metadata": {},
   "source": [
    "As we aim to form homogeneous groupings, we select the test $T$ with the most information.\n",
    "\n",
    "A test is restricted to branching on an attribute $A$ with values $\\{A_1, A_2, \\dots, A_v\\}$, thus partitioning $C$ into $\\{C_1, C_2, \\dots, C_v\\}$. \n",
    "\n",
    "The expected information of the test is obtained as a weighted average of the entropy of the resulting groupings:\n",
    "\n",
    "$$E(A) = \\sum_{i=1}^v \\frac{\\|C_i\\|}{\\|C\\|}I(p_i)$$\n",
    "\n",
    "In short, and as expected, we are measuring an attribute's ability to generate homogeneous groupings."
   ]
  },
  {
   "cell_type": "code",
   "execution_count": 9,
   "metadata": {},
   "outputs": [
    {
     "data": {
      "text/plain": [
       "0.6935361388961918"
      ]
     },
     "execution_count": 9,
     "metadata": {},
     "output_type": "execute_result"
    }
   ],
   "source": [
    "def mean_entropy(data, attribute):\n",
    "    c_norm = X.shape[0]\n",
    "    information = 0\n",
    "    values = data[attribute].unique()\n",
    "    for value in values:\n",
    "        group = data[data[attribute] == value]\n",
    "        \n",
    "        p_norm = group.shape[0]\n",
    "        \n",
    "        w = p_norm / c_norm\n",
    "        \n",
    "        p = compute_probability(group)\n",
    "        e = entropy(p)\n",
    "    \n",
    "        information += w * e\n",
    "    \n",
    "    return information\n",
    "\n",
    "\n",
    "mean_entropy(data, 'Outlook')"
   ]
  },
  {
   "cell_type": "markdown",
   "metadata": {},
   "source": [
    "Given this result, the feature `Outlook` yields branches that have a much lower entropy than the entire data set.\n",
    "\n",
    "The **information gain** of branching on an attribute $A$ is, perhaps unsurprisingly, measured as:\n",
    "\n",
    "$$IG(A) = I(p) - E(A)$$\n",
    "\n",
    "Let's compute it."
   ]
  },
  {
   "cell_type": "code",
   "execution_count": 10,
   "metadata": {},
   "outputs": [
    {
     "data": {
      "text/plain": [
       "0.24674981977443933"
      ]
     },
     "execution_count": 10,
     "metadata": {},
     "output_type": "execute_result"
    }
   ],
   "source": [
    "def information_gain(data, attribute):\n",
    "    p = compute_probability(data)\n",
    "    i = entropy(p)\n",
    "    \n",
    "    e = mean_entropy(data, attribute)\n",
    "    \n",
    "    return i - e\n",
    "\n",
    "\n",
    "information_gain(data, 'Outlook')"
   ]
  },
  {
   "cell_type": "markdown",
   "metadata": {},
   "source": [
    "To generate the simplest possible tree, it is sensible to branch on the attribute with more information."
   ]
  },
  {
   "cell_type": "code",
   "execution_count": 11,
   "metadata": {},
   "outputs": [
    {
     "data": {
      "text/plain": [
       "{'Outlook': 0.24674981977443933,\n",
       " 'Temperature': 0.02922256565895487,\n",
       " 'Humidity': 0.15183550136234159,\n",
       " 'Windy': 0.02507817350585062}"
      ]
     },
     "execution_count": 11,
     "metadata": {},
     "output_type": "execute_result"
    }
   ],
   "source": [
    "def examine_candidate_attributes(data, attributes):\n",
    "    return {attribute:information_gain(data, attribute) for attribute in attributes}\n",
    "\n",
    "\n",
    "attributes = [c for c in data.columns if c is not 'Class']\n",
    "examine_candidate_attributes(data, attributes)"
   ]
  },
  {
   "cell_type": "markdown",
   "metadata": {},
   "source": [
    "So, we would start by branching on the values of the `Outlook` attribute."
   ]
  },
  {
   "cell_type": "code",
   "execution_count": 12,
   "metadata": {},
   "outputs": [
    {
     "data": {
      "text/plain": [
       "array(['sunny', 'overcast', 'rain'], dtype=object)"
      ]
     },
     "execution_count": 12,
     "metadata": {},
     "output_type": "execute_result"
    }
   ],
   "source": [
    "outlook_values = data['Outlook'].unique()\n",
    "outlook_values"
   ]
  },
  {
   "cell_type": "code",
   "execution_count": 13,
   "metadata": {},
   "outputs": [
    {
     "name": "stdout",
     "output_type": "stream",
     "text": [
      "---\n",
      "Value: sunny. \n",
      "Results: {'Outlook': 0.6241825250065727, 'Temperature': 0.8280934515975258, 'Humidity': 0.9709505944546686, 'Windy': 0.6313157728715637}.\n",
      "---\n",
      "Value: overcast. \n",
      "Results: {'Outlook': 0.0, 'Temperature': 0.0, 'Humidity': 0.0, 'Windy': 0.0}.\n",
      "---\n",
      "Value: rain. \n",
      "Results: {'Outlook': 0.6241825250065727, 'Temperature': 0.6313157728715637, 'Humidity': 0.6313157728715637, 'Windy': 0.7391568446092021}.\n"
     ]
    }
   ],
   "source": [
    "for i, value in enumerate(outlook_values):\n",
    "    partition = data[data['Outlook'] == value]\n",
    "    results = examine_candidate_attributes(partition, attributes)\n",
    "    print(\"---\")\n",
    "    print(\"Value: {}. \\nResults: {}.\".format(value, results))"
   ]
  },
  {
   "cell_type": "markdown",
   "metadata": {},
   "source": [
    "Now, we repeat the process in each partition.\n",
    "\n",
    "Interestingly enough, none of the attributes provides any information gain in one of the cases."
   ]
  },
  {
   "cell_type": "code",
   "execution_count": 14,
   "metadata": {},
   "outputs": [
    {
     "data": {
      "text/html": [
       "<div>\n",
       "<style scoped>\n",
       "    .dataframe tbody tr th:only-of-type {\n",
       "        vertical-align: middle;\n",
       "    }\n",
       "\n",
       "    .dataframe tbody tr th {\n",
       "        vertical-align: top;\n",
       "    }\n",
       "\n",
       "    .dataframe thead th {\n",
       "        text-align: right;\n",
       "    }\n",
       "</style>\n",
       "<table border=\"1\" class=\"dataframe\">\n",
       "  <thead>\n",
       "    <tr style=\"text-align: right;\">\n",
       "      <th></th>\n",
       "      <th>Outlook</th>\n",
       "      <th>Temperature</th>\n",
       "      <th>Humidity</th>\n",
       "      <th>Windy</th>\n",
       "      <th>Class</th>\n",
       "    </tr>\n",
       "  </thead>\n",
       "  <tbody>\n",
       "    <tr>\n",
       "      <th>2</th>\n",
       "      <td>overcast</td>\n",
       "      <td>hot</td>\n",
       "      <td>high</td>\n",
       "      <td>false</td>\n",
       "      <td>1</td>\n",
       "    </tr>\n",
       "    <tr>\n",
       "      <th>6</th>\n",
       "      <td>overcast</td>\n",
       "      <td>cool</td>\n",
       "      <td>normal</td>\n",
       "      <td>false</td>\n",
       "      <td>1</td>\n",
       "    </tr>\n",
       "    <tr>\n",
       "      <th>11</th>\n",
       "      <td>overcast</td>\n",
       "      <td>mild</td>\n",
       "      <td>high</td>\n",
       "      <td>true</td>\n",
       "      <td>1</td>\n",
       "    </tr>\n",
       "    <tr>\n",
       "      <th>12</th>\n",
       "      <td>overcast</td>\n",
       "      <td>hot</td>\n",
       "      <td>normal</td>\n",
       "      <td>false</td>\n",
       "      <td>1</td>\n",
       "    </tr>\n",
       "  </tbody>\n",
       "</table>\n",
       "</div>"
      ],
      "text/plain": [
       "     Outlook Temperature Humidity  Windy  Class\n",
       "2   overcast         hot     high  false      1\n",
       "6   overcast        cool   normal  false      1\n",
       "11  overcast        mild     high   true      1\n",
       "12  overcast         hot   normal  false      1"
      ]
     },
     "execution_count": 14,
     "metadata": {},
     "output_type": "execute_result"
    }
   ],
   "source": [
    "data[data['Outlook'] == 'overcast']"
   ]
  },
  {
   "cell_type": "markdown",
   "metadata": {},
   "source": [
    "As it turns out, this grouping is homogeneous (all instances are positive) and, thus, we figured out our first rule:\n",
    "\n",
    "```\n",
    "if Outlook is Overcast then Go Hicking\n",
    "```\n",
    "\n",
    "Finally, we would continue partitioning recursively until all the resulting groupings are homogeneous.\n",
    "\n",
    "## Using decision trees\n",
    "\n",
    "The `sklearn` implementation uses an optimized version of the CART algorithm. \n",
    "\n",
    "(So the tree will be different, panic not.)"
   ]
  },
  {
   "cell_type": "code",
   "execution_count": 15,
   "metadata": {},
   "outputs": [
    {
     "data": {
      "text/plain": [
       "DecisionTreeClassifier(class_weight=None, criterion='entropy', max_depth=None,\n",
       "                       max_features=None, max_leaf_nodes=None,\n",
       "                       min_impurity_decrease=0.0, min_impurity_split=None,\n",
       "                       min_samples_leaf=1, min_samples_split=2,\n",
       "                       min_weight_fraction_leaf=0.0, presort=False,\n",
       "                       random_state=None, splitter='best')"
      ]
     },
     "execution_count": 15,
     "metadata": {},
     "output_type": "execute_result"
    }
   ],
   "source": [
    "X_ = process_categorical_features(X)\n",
    "\n",
    "clf = DecisionTreeClassifier(criterion='entropy')\n",
    "clf.fit(X_, y)"
   ]
  },
  {
   "cell_type": "markdown",
   "metadata": {},
   "source": [
    "Above, we do a trick to convert categorical variables into something more `sklearn`-friendly.\n",
    "\n",
    "(You will learn all about it in due time, overlook it for now.)\n",
    "\n",
    "Then, we train a decision `DecisionTreeClassifier` (refer to the [docs](https://scikit-learn.org/stable/modules/generated/sklearn.tree.DecisionTreeClassifier.html) for more information)."
   ]
  },
  {
   "cell_type": "code",
   "execution_count": 16,
   "metadata": {},
   "outputs": [
    {
     "data": {
      "image/png": "[encoded data removed]",
      "text/plain": [
       "<IPython.core.display.Image object>"
      ]
     },
     "execution_count": 16,
     "metadata": {},
     "output_type": "execute_result"
    }
   ],
   "source": [
    "t = visualize_tree(clf, X_.columns, y.name)\n",
    "Image(t)"
   ]
  },
  {
   "cell_type": "markdown",
   "metadata": {},
   "source": [
    "For regression, you should use the `DecisionTreeRegressor` (again, refer to the [docs](https://scikit-learn.org/stable/modules/generated/sklearn.tree.DecisionTreeRegressor.html))."
   ]
  },
  {
   "cell_type": "markdown",
   "metadata": {},
   "source": [
    "## Feature importances\n",
    "\n",
    "A great characteristic of decision trees is that they allow us to compute **feature importances**.\n",
    "\n",
    "It is is given as the (normalized) decrease in node impurity, weighted by the proportion of samples reaching the node."
   ]
  },
  {
   "cell_type": "code",
   "execution_count": 17,
   "metadata": {},
   "outputs": [
    {
     "data": {
      "text/plain": [
       "Outlook_overcast    0.283411\n",
       "Humidity_normal     0.249079\n",
       "Windy_false         0.179147\n",
       "Outlook_sunny       0.144181\n",
       "Outlook_rain        0.076563\n",
       "Temperature_cool    0.067618\n",
       "Windy_true          0.000000\n",
       "Humidity_high       0.000000\n",
       "Temperature_mild    0.000000\n",
       "Temperature_hot     0.000000\n",
       "dtype: float64"
      ]
     },
     "execution_count": 17,
     "metadata": {},
     "output_type": "execute_result"
    }
   ],
   "source": [
    "feature_importances = pd.Series(data=clf.feature_importances_, index=X_.columns)\n",
    "feature_importances.sort_values(ascending=False)"
   ]
  },
  {
   "cell_type": "markdown",
   "metadata": {},
   "source": [
    "Note, for example, that `Windy_true` has the most information gain. (Practice: do the math yourself.)\n",
    "\n",
    "Nonetheless, once weighted by the proportion of sample reaching the node, this is not the most important feature."
   ]
  },
  {
   "cell_type": "markdown",
   "metadata": {},
   "source": [
    "## Pros and cons\n",
    "\n",
    "### Pros\n",
    "\n",
    "Decision trees are a straighforward way to represent rules that simply makes sense:\n",
    "\n",
    "* Simple to understand, interpret and visualize\n",
    "* Little to no data preparation\n",
    "* Able to handle numerical and categorical variables\n",
    "* White-box model, all decisions are replicable.\n",
    "\n",
    "### Cons\n",
    "\n",
    "Decision trees are extremely flexible and prone to create over-complex trees that don't generalize:\n",
    "* Overfitting\n",
    "* Overfitting\n",
    "* Overfitting.\n",
    "\n",
    "(Repetition makes perfect.)\n",
    "\n",
    "Mechanisms such as pruning (removing sections of the tree) and setting the maximum depth of the tree help with overfitting."
   ]
  },
  {
   "cell_type": "code",
   "execution_count": 18,
   "metadata": {},
   "outputs": [
    {
     "data": {
      "text/plain": [
       "DecisionTreeClassifier(class_weight=None, criterion='entropy', max_depth=2,\n",
       "                       max_features=None, max_leaf_nodes=None,\n",
       "                       min_impurity_decrease=0.0, min_impurity_split=None,\n",
       "                       min_samples_leaf=1, min_samples_split=2,\n",
       "                       min_weight_fraction_leaf=0.0, presort=False,\n",
       "                       random_state=None, splitter='best')"
      ]
     },
     "execution_count": 18,
     "metadata": {},
     "output_type": "execute_result"
    }
   ],
   "source": [
    "clf = DecisionTreeClassifier(criterion='entropy', max_depth=2)\n",
    "clf.fit(X_, y)"
   ]
  },
  {
   "cell_type": "code",
   "execution_count": 19,
   "metadata": {},
   "outputs": [
    {
     "data": {
      "image/png": "[encoded data removed]",
      "text/plain": [
       "<IPython.core.display.Image object>"
      ]
     },
     "execution_count": 19,
     "metadata": {},
     "output_type": "execute_result"
    }
   ],
   "source": [
    "t = visualize_tree(clf, X_.columns, y.name)\n",
    "Image(t)"
   ]
  },
  {
   "cell_type": "markdown",
   "metadata": {},
   "source": [
    "We can also set the minimum number of samples required at a leaf node to avoid fully-grown trees."
   ]
  },
  {
   "cell_type": "code",
   "execution_count": 20,
   "metadata": {},
   "outputs": [
    {
     "data": {
      "text/plain": [
       "DecisionTreeClassifier(class_weight=None, criterion='entropy', max_depth=None,\n",
       "                       max_features=None, max_leaf_nodes=None,\n",
       "                       min_impurity_decrease=0.0, min_impurity_split=None,\n",
       "                       min_samples_leaf=1, min_samples_split=5,\n",
       "                       min_weight_fraction_leaf=0.0, presort=False,\n",
       "                       random_state=None, splitter='best')"
      ]
     },
     "execution_count": 20,
     "metadata": {},
     "output_type": "execute_result"
    }
   ],
   "source": [
    "clf = DecisionTreeClassifier(criterion='entropy', min_samples_split=5)\n",
    "clf.fit(X_, y)"
   ]
  },
  {
   "cell_type": "markdown",
   "metadata": {},
   "source": [
    "These all help with controlling overfitting, but they are simply not enough."
   ]
  },
  {
   "cell_type": "code",
   "execution_count": 21,
   "metadata": {},
   "outputs": [
    {
     "data": {
      "image/png": "[encoded data removed]",
      "text/plain": [
       "<IPython.core.display.Image object>"
      ]
     },
     "execution_count": 21,
     "metadata": {},
     "output_type": "execute_result"
    }
   ],
   "source": [
    "t = visualize_tree(clf, X_.columns, y.name)\n",
    "Image(t)"
   ]
  },
  {
   "cell_type": "markdown",
   "metadata": {},
   "source": [
    "If the attributes are adequate, it is always possible to construct a decision-tree that correctly classifies each training instance.\n",
    "\n",
    "Attributes are **inadequate** if the data contains two objects that have identical values for each attribute and yet belong to different classes.\n",
    "\n",
    "A key takeaway (repetition makes perfect): **decision trees overfit like hell**. In fact, they hallucinate."
   ]
  },
  {
   "cell_type": "markdown",
   "metadata": {},
   "source": [
    "## Tree-based ensembles\n",
    "\n",
    "**Ensemble methods** combine the predictions of several models, known as **base learners** or **base estimators**.\n",
    "\n",
    "<img src=\"assets/ensemble-methods.png\" alt=\"ensemble-methods\" style=\"width: 600px;\"/>\n",
    "\n",
    "*Fig. 3: A simple ensemble model, using many trained models to generate a single prediction.*\n",
    "\n",
    "There are homogeneous and heterogenous ensembles, based on whether the base learners are all alike or not.\n",
    "\n",
    "We focus on homogenous ensembles of decision-trees, particularly:\n",
    "\n",
    "* Building several independent trees and then average their predictions, so that variance is reduced (i.e., **bagging**)\n",
    "* Building trees sequentially as to reduce the bias of the combined estimator (i.e., **boosting**).\n",
    "\n",
    "# Bagging with random forests\n",
    "\n",
    "Bootstrap aggregating, also known as bagging, consists in:\n",
    "1. Creating several independent data sets \n",
    "2. Training a model in each data set\n",
    "3. Aggregating individual predictions.\n",
    "\n",
    "Bagging can be seen as training several independent models in parallel and averaging the predictions.\n",
    "\n",
    "Now, decision-trees don't simply overfit, as they are highly unstable: small variations in the data result in wildly different trees.\n",
    "\n",
    "This makes them particularly suited for bagging.\n",
    "\n",
    "## Bagging\n",
    "\n",
    "Suppose you have a sequence of data sets $\\{D_1, D_2, \\dots, D_k\\}$, with observations from the same underlying distribution $\\mathcal{D}$.\n",
    "\n",
    "We can obtain a **sequence of models**, $\\{h_1, h_2, \\dots, h_k\\}$, by training a model in each data set.\n",
    "\n",
    "<img src=\"assets/bagging-estimator.png\" alt=\"bagging-estimator\" style=\"width: 600px;\"/>\n",
    "\n",
    "*Fig. 4: In bagging different data sets are generated from the main one, models are trained in parallel and predictions averaged.*\n",
    "\n",
    "By running the models in parallel, we get $\\{\\hat{y}_1\\, \\hat{y}_2\\, \\dots, \\hat{y}_k\\}$, a **sequence of predictions**.\n",
    "\n",
    "To obtain a single prediction we can then evaluate all models and aggregate the results by:\n",
    "* Averaging the $k$ predictions (regression)\n",
    "* Using majority voting to predict a class (classification).\n",
    "\n",
    "Most often than not, however, we don't have multiple data sets. Bootstapping is the answer.\n",
    "\n",
    "## Bootstrapping\n",
    "\n",
    "What we do, henceforth, is to take repeated random samples with replacement $\\{C^1, C^2, \\dots, C^b\\}$ from $C$."
   ]
  },
  {
   "cell_type": "code",
   "execution_count": 22,
   "metadata": {},
   "outputs": [],
   "source": [
    "def make_bootstrap_data(data, b):\n",
    "    n = data.shape[0]\n",
    "    return [data.sample(n=n, replace=True) for i in range(b)]\n",
    "\n",
    "\n",
    "bootstrap_data = make_bootstrap_data(data, 2)"
   ]
  },
  {
   "cell_type": "markdown",
   "metadata": {},
   "source": [
    "Typycally, the bootstrap data sets are the same size as the original data set."
   ]
  },
  {
   "cell_type": "code",
   "execution_count": 23,
   "metadata": {},
   "outputs": [
    {
     "data": {
      "text/html": [
       "<div>\n",
       "<style scoped>\n",
       "    .dataframe tbody tr th:only-of-type {\n",
       "        vertical-align: middle;\n",
       "    }\n",
       "\n",
       "    .dataframe tbody tr th {\n",
       "        vertical-align: top;\n",
       "    }\n",
       "\n",
       "    .dataframe thead th {\n",
       "        text-align: right;\n",
       "    }\n",
       "</style>\n",
       "<table border=\"1\" class=\"dataframe\">\n",
       "  <thead>\n",
       "    <tr style=\"text-align: right;\">\n",
       "      <th></th>\n",
       "      <th>Outlook</th>\n",
       "      <th>Temperature</th>\n",
       "      <th>Humidity</th>\n",
       "      <th>Windy</th>\n",
       "      <th>Class</th>\n",
       "    </tr>\n",
       "  </thead>\n",
       "  <tbody>\n",
       "    <tr>\n",
       "      <th>0</th>\n",
       "      <td>sunny</td>\n",
       "      <td>hot</td>\n",
       "      <td>high</td>\n",
       "      <td>false</td>\n",
       "      <td>0</td>\n",
       "    </tr>\n",
       "    <tr>\n",
       "      <th>10</th>\n",
       "      <td>sunny</td>\n",
       "      <td>mild</td>\n",
       "      <td>normal</td>\n",
       "      <td>true</td>\n",
       "      <td>1</td>\n",
       "    </tr>\n",
       "    <tr>\n",
       "      <th>4</th>\n",
       "      <td>rain</td>\n",
       "      <td>cool</td>\n",
       "      <td>normal</td>\n",
       "      <td>false</td>\n",
       "      <td>1</td>\n",
       "    </tr>\n",
       "    <tr>\n",
       "      <th>9</th>\n",
       "      <td>rain</td>\n",
       "      <td>mild</td>\n",
       "      <td>normal</td>\n",
       "      <td>false</td>\n",
       "      <td>1</td>\n",
       "    </tr>\n",
       "    <tr>\n",
       "      <th>9</th>\n",
       "      <td>rain</td>\n",
       "      <td>mild</td>\n",
       "      <td>normal</td>\n",
       "      <td>false</td>\n",
       "      <td>1</td>\n",
       "    </tr>\n",
       "    <tr>\n",
       "      <th>12</th>\n",
       "      <td>overcast</td>\n",
       "      <td>hot</td>\n",
       "      <td>normal</td>\n",
       "      <td>false</td>\n",
       "      <td>1</td>\n",
       "    </tr>\n",
       "    <tr>\n",
       "      <th>2</th>\n",
       "      <td>overcast</td>\n",
       "      <td>hot</td>\n",
       "      <td>high</td>\n",
       "      <td>false</td>\n",
       "      <td>1</td>\n",
       "    </tr>\n",
       "    <tr>\n",
       "      <th>7</th>\n",
       "      <td>sunny</td>\n",
       "      <td>mild</td>\n",
       "      <td>high</td>\n",
       "      <td>false</td>\n",
       "      <td>0</td>\n",
       "    </tr>\n",
       "    <tr>\n",
       "      <th>0</th>\n",
       "      <td>sunny</td>\n",
       "      <td>hot</td>\n",
       "      <td>high</td>\n",
       "      <td>false</td>\n",
       "      <td>0</td>\n",
       "    </tr>\n",
       "    <tr>\n",
       "      <th>10</th>\n",
       "      <td>sunny</td>\n",
       "      <td>mild</td>\n",
       "      <td>normal</td>\n",
       "      <td>true</td>\n",
       "      <td>1</td>\n",
       "    </tr>\n",
       "    <tr>\n",
       "      <th>5</th>\n",
       "      <td>rain</td>\n",
       "      <td>cool</td>\n",
       "      <td>normal</td>\n",
       "      <td>false</td>\n",
       "      <td>0</td>\n",
       "    </tr>\n",
       "    <tr>\n",
       "      <th>5</th>\n",
       "      <td>rain</td>\n",
       "      <td>cool</td>\n",
       "      <td>normal</td>\n",
       "      <td>false</td>\n",
       "      <td>0</td>\n",
       "    </tr>\n",
       "    <tr>\n",
       "      <th>6</th>\n",
       "      <td>overcast</td>\n",
       "      <td>cool</td>\n",
       "      <td>normal</td>\n",
       "      <td>false</td>\n",
       "      <td>1</td>\n",
       "    </tr>\n",
       "    <tr>\n",
       "      <th>9</th>\n",
       "      <td>rain</td>\n",
       "      <td>mild</td>\n",
       "      <td>normal</td>\n",
       "      <td>false</td>\n",
       "      <td>1</td>\n",
       "    </tr>\n",
       "  </tbody>\n",
       "</table>\n",
       "</div>"
      ],
      "text/plain": [
       "     Outlook Temperature Humidity  Windy  Class\n",
       "0      sunny         hot     high  false      0\n",
       "10     sunny        mild   normal   true      1\n",
       "4       rain        cool   normal  false      1\n",
       "9       rain        mild   normal  false      1\n",
       "9       rain        mild   normal  false      1\n",
       "12  overcast         hot   normal  false      1\n",
       "2   overcast         hot     high  false      1\n",
       "7      sunny        mild     high  false      0\n",
       "0      sunny         hot     high  false      0\n",
       "10     sunny        mild   normal   true      1\n",
       "5       rain        cool   normal  false      0\n",
       "5       rain        cool   normal  false      0\n",
       "6   overcast        cool   normal  false      1\n",
       "9       rain        mild   normal  false      1"
      ]
     },
     "execution_count": 23,
     "metadata": {},
     "output_type": "execute_result"
    }
   ],
   "source": [
    "bootstrap_data[0]"
   ]
  },
  {
   "cell_type": "code",
   "execution_count": 24,
   "metadata": {},
   "outputs": [
    {
     "data": {
      "text/html": [
       "<div>\n",
       "<style scoped>\n",
       "    .dataframe tbody tr th:only-of-type {\n",
       "        vertical-align: middle;\n",
       "    }\n",
       "\n",
       "    .dataframe tbody tr th {\n",
       "        vertical-align: top;\n",
       "    }\n",
       "\n",
       "    .dataframe thead th {\n",
       "        text-align: right;\n",
       "    }\n",
       "</style>\n",
       "<table border=\"1\" class=\"dataframe\">\n",
       "  <thead>\n",
       "    <tr style=\"text-align: right;\">\n",
       "      <th></th>\n",
       "      <th>Outlook</th>\n",
       "      <th>Temperature</th>\n",
       "      <th>Humidity</th>\n",
       "      <th>Windy</th>\n",
       "      <th>Class</th>\n",
       "    </tr>\n",
       "  </thead>\n",
       "  <tbody>\n",
       "    <tr>\n",
       "      <th>3</th>\n",
       "      <td>rain</td>\n",
       "      <td>mild</td>\n",
       "      <td>high</td>\n",
       "      <td>false</td>\n",
       "      <td>1</td>\n",
       "    </tr>\n",
       "    <tr>\n",
       "      <th>6</th>\n",
       "      <td>overcast</td>\n",
       "      <td>cool</td>\n",
       "      <td>normal</td>\n",
       "      <td>false</td>\n",
       "      <td>1</td>\n",
       "    </tr>\n",
       "    <tr>\n",
       "      <th>0</th>\n",
       "      <td>sunny</td>\n",
       "      <td>hot</td>\n",
       "      <td>high</td>\n",
       "      <td>false</td>\n",
       "      <td>0</td>\n",
       "    </tr>\n",
       "    <tr>\n",
       "      <th>13</th>\n",
       "      <td>rain</td>\n",
       "      <td>mild</td>\n",
       "      <td>high</td>\n",
       "      <td>true</td>\n",
       "      <td>0</td>\n",
       "    </tr>\n",
       "    <tr>\n",
       "      <th>0</th>\n",
       "      <td>sunny</td>\n",
       "      <td>hot</td>\n",
       "      <td>high</td>\n",
       "      <td>false</td>\n",
       "      <td>0</td>\n",
       "    </tr>\n",
       "    <tr>\n",
       "      <th>12</th>\n",
       "      <td>overcast</td>\n",
       "      <td>hot</td>\n",
       "      <td>normal</td>\n",
       "      <td>false</td>\n",
       "      <td>1</td>\n",
       "    </tr>\n",
       "    <tr>\n",
       "      <th>5</th>\n",
       "      <td>rain</td>\n",
       "      <td>cool</td>\n",
       "      <td>normal</td>\n",
       "      <td>false</td>\n",
       "      <td>0</td>\n",
       "    </tr>\n",
       "    <tr>\n",
       "      <th>12</th>\n",
       "      <td>overcast</td>\n",
       "      <td>hot</td>\n",
       "      <td>normal</td>\n",
       "      <td>false</td>\n",
       "      <td>1</td>\n",
       "    </tr>\n",
       "    <tr>\n",
       "      <th>7</th>\n",
       "      <td>sunny</td>\n",
       "      <td>mild</td>\n",
       "      <td>high</td>\n",
       "      <td>false</td>\n",
       "      <td>0</td>\n",
       "    </tr>\n",
       "    <tr>\n",
       "      <th>0</th>\n",
       "      <td>sunny</td>\n",
       "      <td>hot</td>\n",
       "      <td>high</td>\n",
       "      <td>false</td>\n",
       "      <td>0</td>\n",
       "    </tr>\n",
       "    <tr>\n",
       "      <th>8</th>\n",
       "      <td>sunny</td>\n",
       "      <td>cool</td>\n",
       "      <td>normal</td>\n",
       "      <td>false</td>\n",
       "      <td>1</td>\n",
       "    </tr>\n",
       "    <tr>\n",
       "      <th>3</th>\n",
       "      <td>rain</td>\n",
       "      <td>mild</td>\n",
       "      <td>high</td>\n",
       "      <td>false</td>\n",
       "      <td>1</td>\n",
       "    </tr>\n",
       "    <tr>\n",
       "      <th>5</th>\n",
       "      <td>rain</td>\n",
       "      <td>cool</td>\n",
       "      <td>normal</td>\n",
       "      <td>false</td>\n",
       "      <td>0</td>\n",
       "    </tr>\n",
       "    <tr>\n",
       "      <th>1</th>\n",
       "      <td>sunny</td>\n",
       "      <td>hot</td>\n",
       "      <td>high</td>\n",
       "      <td>true</td>\n",
       "      <td>0</td>\n",
       "    </tr>\n",
       "  </tbody>\n",
       "</table>\n",
       "</div>"
      ],
      "text/plain": [
       "     Outlook Temperature Humidity  Windy  Class\n",
       "3       rain        mild     high  false      1\n",
       "6   overcast        cool   normal  false      1\n",
       "0      sunny         hot     high  false      0\n",
       "13      rain        mild     high   true      0\n",
       "0      sunny         hot     high  false      0\n",
       "12  overcast         hot   normal  false      1\n",
       "5       rain        cool   normal  false      0\n",
       "12  overcast         hot   normal  false      1\n",
       "7      sunny        mild     high  false      0\n",
       "0      sunny         hot     high  false      0\n",
       "8      sunny        cool   normal  false      1\n",
       "3       rain        mild     high  false      1\n",
       "5       rain        cool   normal  false      0\n",
       "1      sunny         hot     high   true      0"
      ]
     },
     "execution_count": 24,
     "metadata": {},
     "output_type": "execute_result"
    }
   ],
   "source": [
    "bootstrap_data[1]"
   ]
  },
  {
   "cell_type": "markdown",
   "metadata": {},
   "source": [
    "We would now train a different decision tree in each data set and use voting to predict whether to go hicking or not.\n",
    "\n",
    "Bagging works surprisingly well in controlling overfitting and the generalization error in unstable models.\n",
    "\n",
    "## Random forests\n",
    "\n",
    "In **random forests**, bagging is used in tandem with random feature selection:\n",
    "* Each training set is drawn, with replacement, from the original data (row sampling)\n",
    "* Then a tree is grown on each bootstrap data set using random feature selection (column sampling).\n",
    "\n",
    "Random feature selection means that only a random subset of the features is available at each split.\n",
    "\n",
    "Randomizing features acts as a kind of regularization, further mitigating overfitting.\n",
    "\n",
    "Fortunately, `sklearn` implements all this intricate logic implemented for us."
   ]
  },
  {
   "cell_type": "code",
   "execution_count": 25,
   "metadata": {},
   "outputs": [
    {
     "data": {
      "text/plain": [
       "RandomForestClassifier(bootstrap=True, class_weight=None, criterion='entropy',\n",
       "                       max_depth=None, max_features=2, max_leaf_nodes=None,\n",
       "                       min_impurity_decrease=0.0, min_impurity_split=None,\n",
       "                       min_samples_leaf=1, min_samples_split=2,\n",
       "                       min_weight_fraction_leaf=0.0, n_estimators=10,\n",
       "                       n_jobs=None, oob_score=False, random_state=None,\n",
       "                       verbose=0, warm_start=False)"
      ]
     },
     "execution_count": 25,
     "metadata": {},
     "output_type": "execute_result"
    }
   ],
   "source": [
    "rf = RandomForestClassifier(n_estimators=10, criterion='entropy', max_features=2, bootstrap=True)\n",
    "rf.fit(X_, y)"
   ]
  },
  {
   "cell_type": "markdown",
   "metadata": {},
   "source": [
    "For detailed information about the models, check the documentation:\n",
    "* RandomForestClassifier ([docs](https://scikit-learn.org/stable/modules/generated/sklearn.ensemble.RandomForestClassifier.html))\n",
    "* RandomForstsRegressor ([docs](https://scikit-learn.org/stable/modules/generated/sklearn.ensemble.RandomForestRegressor.html)).\n",
    "\n",
    "Bagging and, particularly, control overfitting at the cost of interpretability.\n",
    "\n",
    "# Boosting with gradient boosting\n",
    "\n",
    "**Boosting** consists of producing additive models sequentially, by fitting base learners to residuals. *What you saying?*\n",
    "\n",
    "The gist is building strong ensembles by combining base learners sequentially, each correcting previous errors (thus reducing bias).\n",
    "\n",
    "## Boosting\n",
    "\n",
    "Trees are grown sequentially, as each tree is created using information derived from the previous tree. In each iteration:\n",
    "1. Errors and misclassifications of the past model are given increased weight in a new training data set\n",
    "2. The current model is trained on the new training set.\n",
    "\n",
    "As such, each model specializes in correcting past mistakes and misclassifications. \n",
    "\n",
    "<img src=\"assets/boosting-estimator.png\" alt=\"boosting-estimator\" style=\"width: 600px;\"/>\n",
    "\n",
    "Intuitively, this produces an ensemble of models that are good in different \"parts\" of the training data.\n",
    "\n",
    "In this example we will use the [boston](https://www.cs.toronto.edu/~delve/data/boston/bostonDetail.html) house-prices data set (regression)."
   ]
  },
  {
   "cell_type": "code",
   "execution_count": 26,
   "metadata": {},
   "outputs": [],
   "source": [
    "def prepare_boston():\n",
    "    boston = load_boston()\n",
    "    X = pd.DataFrame(data=boston.data, columns=boston.feature_names)\n",
    "    y = pd.Series(data=boston.target, name='price')\n",
    "    \n",
    "    return X, y\n",
    "\n",
    "\n",
    "X_boston, y_boston = prepare_boston()"
   ]
  },
  {
   "cell_type": "markdown",
   "metadata": {},
   "source": [
    "## What do we mean by gradient\n",
    "\n",
    "### A loss function\n",
    "\n",
    "A loss function quantifies how bad our predictions are. An example is the squared error, below: \n",
    "\n",
    "$$L_i = (y_i - h(x_i))^2$$ \n",
    "\n",
    "We want to minimize the total loss, over all observations in the training set, with respect to the model $h(x)$: \n",
    "\n",
    "$$\\min_{h(x)} J = \\sum_{i=1}^N L(y_i, h(x_i))$$\n",
    "\n",
    "In gradient boosting, we minimize the loss $L_i$ for each training instance $(x_i, y_i)$ in order to minimize the global error.\n",
    "\n",
    "It allows to minimize any complex loss of our choosing, for as long as it is differentiable.\n",
    "\n",
    "### And its slope at point $i$\n",
    "\n",
    "The gradient stands for rate of inclination, or slope.\n",
    "\n",
    "It's the fancy term for the multi-variable generalization of the derivative, i.e., the partial derivatives of function $f$ at point $i$.\n",
    "\n",
    "In this particular case, by gradient we refer to the derivative of the loss $L$ with respect to the model $h(x_i)$, in the example above:\n",
    "\n",
    "$$\\frac{\\partial L (y_i, h(x_i))}{\\partial h(x_i)} = -2(y_i - h(x_i))$$\n",
    "\n",
    "Now, for the gradient at a given point $i$, we plug-in the values of $y_i$ and $h(x_i)$.\n",
    "\n",
    "### Also known as pseudo-residual\n",
    "\n",
    "The **residual**, $r$, is the difference between the true value and the estimated value of a variable of interest.\n",
    "\n",
    "For any **differentiable** loss function, the gradient is proportional to the residual, for example:\n",
    "\n",
    "$$-2(y_i - h(x_i)) = -2(y_i - \\hat{y_i}) = -2r_i$$\n",
    "\n",
    "So the gradient is somewhat equivalent to the residual but specific to an arbitrary cost function.\n",
    "\n",
    "The negative of the gradient is sometimes called the **pseudo-residual**.\n",
    "\n",
    "## Gradient boosting\n",
    "\n",
    "### Initialization\n",
    "\n",
    "We initialize $h(x_i)$ to a sensible constant, $h^0(x_i) = \\gamma$.\n",
    "\n",
    "Since our goal is to minimize the squared error, we will use the mean value of the target variable in the training set."
   ]
  },
  {
   "cell_type": "code",
   "execution_count": 27,
   "metadata": {},
   "outputs": [],
   "source": [
    "y_boston_h0_pred = np.repeat(y_boston.mean(), y_boston.size)"
   ]
  },
  {
   "cell_type": "markdown",
   "metadata": {},
   "source": [
    "We compute the mean squared error of this initial set of predictions."
   ]
  },
  {
   "cell_type": "code",
   "execution_count": 28,
   "metadata": {},
   "outputs": [
    {
     "data": {
      "text/plain": [
       "84.41955615616556"
      ]
     },
     "execution_count": 28,
     "metadata": {},
     "output_type": "execute_result"
    }
   ],
   "source": [
    "mean_squared_error(y_boston, y_boston_h0_pred)"
   ]
  },
  {
   "cell_type": "markdown",
   "metadata": {},
   "source": [
    "### Iterations\n",
    "\n",
    "#### Generating a new data set\n",
    "\n",
    "We build a new training set at the start of each iteration. Concretely, we recompute the target variable (all else remains the same).\n",
    "\n",
    "So, at the $j$-th iteration we compute a new target variable $r^{(j)}_i$, corresponding to the gradient of the past iteration:\n",
    "\n",
    "$$r^{(j)}_{i} = \\frac{\\partial L(y_i, h^{(j-1)}(x_i))}{\\partial h^{(j-1)}(x_i)} = -2(y_i - h^{j - 1}(x_i))$$\n",
    "\n",
    "Intuitively, it corresponds to the rate of change of the loss with respect to a small increase in the predicted value."
   ]
  },
  {
   "cell_type": "code",
   "execution_count": 29,
   "metadata": {},
   "outputs": [],
   "source": [
    "def compute_gradient(y, y_pred):\n",
    "    return -2 * (y - y_pred)\n",
    "\n",
    "\n",
    "y_boston_h0_residual = compute_gradient(y_boston, y_boston_h0_pred)"
   ]
  },
  {
   "cell_type": "markdown",
   "metadata": {},
   "source": [
    "#### Training a decision-tree\n",
    "\n",
    "Based on the new data set, we contruct a decision-tree that **predicts the gradient** $\\hat{r}^{(j)}_i$, given $x_i$.\n",
    "\n",
    "To be clear, we fit the decision-tree on the gradients."
   ]
  },
  {
   "cell_type": "code",
   "execution_count": 30,
   "metadata": {},
   "outputs": [],
   "source": [
    "dt = DecisionTreeRegressor(max_depth=1)\n",
    "dt.fit(X_boston, y_boston_h0_residual)\n",
    "\n",
    "\n",
    "y_boston_h0_residual_pred = dt.predict(X_boston)"
   ]
  },
  {
   "cell_type": "markdown",
   "metadata": {},
   "source": [
    "Typically, we will want to train the simplest, shallowest decision-trees as base learners.\n",
    "\n",
    "(Hence, setting the maximum depth of the tree to one.)"
   ]
  },
  {
   "cell_type": "markdown",
   "metadata": {},
   "source": [
    "#### Updating the predictions\n",
    "\n",
    "The update rule goes as follows, where $\\eta$ is a **learning rate** that controls the magnitude of the update:\n",
    "\n",
    "$$h^{(j)}_{i}(x_i) = h^{(j - 1)}(x_i) - \\eta \\cdot \\frac{\\partial L(y_i, h^{(j-1)}(x_i))}{\\partial h^{(j-1)}(x_i)}$$\n",
    "\n",
    "The learning rate is also known as the *shrinkage factor*, as it shrinks the impact of the corrections if $\\eta$ between 0 and 1.\n",
    "\n",
    "Since we don't know the true value of $y_i$ at prediction time, we plug-in the prediction of the decision-tree:\n",
    "\n",
    "$$h^{(j)}_{i}(x_i) \\approx h^{(j - 1)}(x_i) - \\eta \\cdot \\hat{r}^{(j)}_i(x_i) $$\n",
    "\n",
    "Intuitively, we are following the (shrunken) slope, rolling down the hill towards minimizing the loss function."
   ]
  },
  {
   "cell_type": "code",
   "execution_count": 31,
   "metadata": {},
   "outputs": [],
   "source": [
    "def update_predictions(h0_preds, h0_residuals, lr):\n",
    "    return h0_preds - lr * h0_residuals\n",
    "\n",
    "\n",
    "y_boston_h1_pred = update_predictions(y_boston_h0_pred, y_boston_h0_residual_pred, lr=0.1)"
   ]
  },
  {
   "cell_type": "markdown",
   "metadata": {},
   "source": [
    "(In many implementations, a learning rate $\\eta_m$ is computed for each leaf. In this example, we use a static rate.)\n",
    "\n",
    "Now, we compute the mean squared error for the updated predictions."
   ]
  },
  {
   "cell_type": "code",
   "execution_count": 32,
   "metadata": {},
   "outputs": [
    {
     "data": {
      "text/plain": [
       "70.66018894370501"
      ]
     },
     "execution_count": 32,
     "metadata": {},
     "output_type": "execute_result"
    }
   ],
   "source": [
    "mean_squared_error(y_boston, y_boston_h1_pred)"
   ]
  },
  {
   "cell_type": "markdown",
   "metadata": {},
   "source": [
    "Finally, we would continue the process until the error strops decreasing."
   ]
  },
  {
   "cell_type": "markdown",
   "metadata": {},
   "source": [
    "### All together now (and how to use it)\n",
    "\n",
    "Suppose we have $m$ individual decision-trees, or, simply put, boosting stages.\n",
    "\n",
    "The final prediction will be given by the sum of the initial constant and all the gradient-based corrections:\n",
    "\n",
    "$$h^m_i(x_i) = \\gamma + \\sum_{j=1}^m \\eta \\cdot \\hat{r}^{(j)}_i(x_i)$$\n",
    "\n",
    "Where $\\hat{r}^{(j)}_i(x_i)$ is the output of a decision-tree that predicts the gradient (which is a kind of residual) of the previous iteration.\n",
    "\n",
    "Enough with theory: `sklearn` for the rescue."
   ]
  },
  {
   "cell_type": "code",
   "execution_count": 33,
   "metadata": {},
   "outputs": [
    {
     "data": {
      "text/plain": [
       "GradientBoostingClassifier(criterion='friedman_mse', init=None,\n",
       "                           learning_rate=0.1, loss='deviance', max_depth=3,\n",
       "                           max_features=None, max_leaf_nodes=None,\n",
       "                           min_impurity_decrease=0.0, min_impurity_split=None,\n",
       "                           min_samples_leaf=1, min_samples_split=2,\n",
       "                           min_weight_fraction_leaf=0.0, n_estimators=10,\n",
       "                           n_iter_no_change=None, presort='auto',\n",
       "                           random_state=None, subsample=1.0, tol=0.0001,\n",
       "                           validation_fraction=0.1, verbose=0,\n",
       "                           warm_start=False)"
      ]
     },
     "execution_count": 33,
     "metadata": {},
     "output_type": "execute_result"
    }
   ],
   "source": [
    "gb = GradientBoostingClassifier(learning_rate=.1, n_estimators=10)\n",
    "gb.fit(X_, y)"
   ]
  },
  {
   "cell_type": "markdown",
   "metadata": {},
   "source": [
    "#### Include sampling (if you fell like it)\n",
    "\n",
    "Some implementations provide the ability to sample observations and features at each iteration, *à la* Random Forests.\n",
    "\n",
    "Unsurprisingly, this reduces overfitting at the expense of increased bias."
   ]
  },
  {
   "cell_type": "code",
   "execution_count": 34,
   "metadata": {},
   "outputs": [
    {
     "data": {
      "text/plain": [
       "GradientBoostingClassifier(criterion='friedman_mse', init=None,\n",
       "                           learning_rate=0.1, loss='deviance', max_depth=3,\n",
       "                           max_features=None, max_leaf_nodes=None,\n",
       "                           min_impurity_decrease=0.0, min_impurity_split=None,\n",
       "                           min_samples_leaf=1, min_samples_split=2,\n",
       "                           min_weight_fraction_leaf=0.0, n_estimators=10,\n",
       "                           n_iter_no_change=None, presort='auto',\n",
       "                           random_state=None, subsample=0.5, tol=0.0001,\n",
       "                           validation_fraction=0.1, verbose=0,\n",
       "                           warm_start=False)"
      ]
     },
     "execution_count": 34,
     "metadata": {},
     "output_type": "execute_result"
    }
   ],
   "source": [
    "gb = GradientBoostingClassifier(learning_rate=.1, n_estimators=10, subsample=.5)\n",
    "gb.fit(X_, y)"
   ]
  },
  {
   "cell_type": "markdown",
   "metadata": {},
   "source": [
    "In the case above, `sklearn` gives us the ability to subsample individual observations (i.e., rows)."
   ]
  }
 ],
 "metadata": {
  "kernelspec": {
   "display_name": "Python 3",
   "language": "python",
   "name": "python3"
  },
  "language_info": {
   "codemirror_mode": {
    "name": "ipython",
    "version": 3
   },
   "file_extension": ".py",
   "mimetype": "text/x-python",
   "name": "python",
   "nbconvert_exporter": "python",
   "pygments_lexer": "ipython3",
   "version": "3.7.3"
  }
 },
 "nbformat": 4,
 "nbformat_minor": 4
}
