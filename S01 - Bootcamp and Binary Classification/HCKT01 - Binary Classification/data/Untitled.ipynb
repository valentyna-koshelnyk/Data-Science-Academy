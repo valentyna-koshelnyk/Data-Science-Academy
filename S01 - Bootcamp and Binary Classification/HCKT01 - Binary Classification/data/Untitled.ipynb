{
 "cells": [
  {
   "cell_type": "code",
   "execution_count": 26,
   "metadata": {},
   "outputs": [],
   "source": [
    "import pandas as pd\n",
    "from sklearn.ensemble import RandomForestClassifier\n",
    "from sklearn.tree import DecisionTreeClassifier\n",
    "from IPython.display import Image\n",
    "import numpy as np\n",
    "from sklearn.pipeline import make_pipeline\n",
    "from sklearn.base import BaseEstimator, ClassifierMixin, TransformerMixin\n",
    "from sklearn.impute import SimpleImputer"
   ]
  },
  {
   "cell_type": "code",
   "execution_count": 27,
   "metadata": {},
   "outputs": [],
   "source": [
    "X = pd.read_csv('train.csv')"
   ]
  },
  {
   "cell_type": "code",
   "execution_count": 28,
   "metadata": {},
   "outputs": [],
   "source": [
    "X_test = pd.read_csv('test.csv')"
   ]
  },
  {
   "cell_type": "code",
   "execution_count": 38,
   "metadata": {},
   "outputs": [
    {
     "data": {
      "text/html": [
       "<div>\n",
       "<style scoped>\n",
       "    .dataframe tbody tr th:only-of-type {\n",
       "        vertical-align: middle;\n",
       "    }\n",
       "\n",
       "    .dataframe tbody tr th {\n",
       "        vertical-align: top;\n",
       "    }\n",
       "\n",
       "    .dataframe thead th {\n",
       "        text-align: right;\n",
       "    }\n",
       "</style>\n",
       "<table border=\"1\" class=\"dataframe\">\n",
       "  <thead>\n",
       "    <tr style=\"text-align: right;\">\n",
       "      <th></th>\n",
       "      <th>id</th>\n",
       "      <th>timestamp</th>\n",
       "      <th>product_id</th>\n",
       "      <th>product_department</th>\n",
       "      <th>product_category</th>\n",
       "      <th>card_id</th>\n",
       "      <th>user_id</th>\n",
       "      <th>C15</th>\n",
       "      <th>C16</th>\n",
       "      <th>C17</th>\n",
       "      <th>C18</th>\n",
       "      <th>C19</th>\n",
       "      <th>C20</th>\n",
       "      <th>C21</th>\n",
       "      <th>amount</th>\n",
       "    </tr>\n",
       "  </thead>\n",
       "  <tbody>\n",
       "    <tr>\n",
       "      <th>0</th>\n",
       "      <td>36412270</td>\n",
       "      <td>1414635923767</td>\n",
       "      <td>c4e18dd6</td>\n",
       "      <td>85f751fd</td>\n",
       "      <td>50e219e0</td>\n",
       "      <td>7358e05e</td>\n",
       "      <td>0007ae57</td>\n",
       "      <td>320</td>\n",
       "      <td>50</td>\n",
       "      <td>2647</td>\n",
       "      <td>2</td>\n",
       "      <td>35</td>\n",
       "      <td>100148</td>\n",
       "      <td>23</td>\n",
       "      <td>191.77</td>\n",
       "    </tr>\n",
       "    <tr>\n",
       "      <th>1</th>\n",
       "      <td>36444068</td>\n",
       "      <td>1414636094030</td>\n",
       "      <td>c4e18dd6</td>\n",
       "      <td>85f751fd</td>\n",
       "      <td>50e219e0</td>\n",
       "      <td>7358e05e</td>\n",
       "      <td>0007ae57</td>\n",
       "      <td>320</td>\n",
       "      <td>50</td>\n",
       "      <td>2647</td>\n",
       "      <td>2</td>\n",
       "      <td>35</td>\n",
       "      <td>100148</td>\n",
       "      <td>23</td>\n",
       "      <td>191.77</td>\n",
       "    </tr>\n",
       "    <tr>\n",
       "      <th>2</th>\n",
       "      <td>37853449</td>\n",
       "      <td>1414662647887</td>\n",
       "      <td>c4e18dd6</td>\n",
       "      <td>85f751fd</td>\n",
       "      <td>50e219e0</td>\n",
       "      <td>7358e05e</td>\n",
       "      <td>0007ae57</td>\n",
       "      <td>320</td>\n",
       "      <td>50</td>\n",
       "      <td>2647</td>\n",
       "      <td>2</td>\n",
       "      <td>39</td>\n",
       "      <td>100148</td>\n",
       "      <td>23</td>\n",
       "      <td>191.77</td>\n",
       "    </tr>\n",
       "    <tr>\n",
       "      <th>3</th>\n",
       "      <td>36396815</td>\n",
       "      <td>1414637084496</td>\n",
       "      <td>c4e18dd6</td>\n",
       "      <td>85f751fd</td>\n",
       "      <td>50e219e0</td>\n",
       "      <td>7358e05e</td>\n",
       "      <td>0007ae57</td>\n",
       "      <td>320</td>\n",
       "      <td>50</td>\n",
       "      <td>2647</td>\n",
       "      <td>2</td>\n",
       "      <td>35</td>\n",
       "      <td>100148</td>\n",
       "      <td>23</td>\n",
       "      <td>191.77</td>\n",
       "    </tr>\n",
       "    <tr>\n",
       "      <th>4</th>\n",
       "      <td>36432507</td>\n",
       "      <td>1414634763247</td>\n",
       "      <td>c4e18dd6</td>\n",
       "      <td>85f751fd</td>\n",
       "      <td>50e219e0</td>\n",
       "      <td>7358e05e</td>\n",
       "      <td>0007ae57</td>\n",
       "      <td>320</td>\n",
       "      <td>50</td>\n",
       "      <td>2647</td>\n",
       "      <td>2</td>\n",
       "      <td>35</td>\n",
       "      <td>100148</td>\n",
       "      <td>105</td>\n",
       "      <td>191.77</td>\n",
       "    </tr>\n",
       "  </tbody>\n",
       "</table>\n",
       "</div>"
      ],
      "text/plain": [
       "         id      timestamp product_id product_department product_category  \\\n",
       "0  36412270  1414635923767   c4e18dd6           85f751fd         50e219e0   \n",
       "1  36444068  1414636094030   c4e18dd6           85f751fd         50e219e0   \n",
       "2  37853449  1414662647887   c4e18dd6           85f751fd         50e219e0   \n",
       "3  36396815  1414637084496   c4e18dd6           85f751fd         50e219e0   \n",
       "4  36432507  1414634763247   c4e18dd6           85f751fd         50e219e0   \n",
       "\n",
       "    card_id   user_id  C15  C16   C17  C18  C19     C20  C21  amount  \n",
       "0  7358e05e  0007ae57  320   50  2647    2   35  100148   23  191.77  \n",
       "1  7358e05e  0007ae57  320   50  2647    2   35  100148   23  191.77  \n",
       "2  7358e05e  0007ae57  320   50  2647    2   39  100148   23  191.77  \n",
       "3  7358e05e  0007ae57  320   50  2647    2   35  100148   23  191.77  \n",
       "4  7358e05e  0007ae57  320   50  2647    2   35  100148  105  191.77  "
      ]
     },
     "execution_count": 38,
     "metadata": {},
     "output_type": "execute_result"
    }
   ],
   "source": [
    "X_test.head()"
   ]
  },
  {
   "cell_type": "code",
   "execution_count": 39,
   "metadata": {},
   "outputs": [
    {
     "ename": "AttributeError",
     "evalue": "'DataFrame' object has no attribute 'value_counts'",
     "output_type": "error",
     "traceback": [
      "\u001b[0;31m---------------------------------------------------------------------------\u001b[0m",
      "\u001b[0;31mAttributeError\u001b[0m                            Traceback (most recent call last)",
      "\u001b[0;32m<ipython-input-39-f1925c018cf1>\u001b[0m in \u001b[0;36m<module>\u001b[0;34m\u001b[0m\n\u001b[0;32m----> 1\u001b[0;31m \u001b[0mX_test\u001b[0m\u001b[0;34m.\u001b[0m\u001b[0mvalue_counts\u001b[0m\u001b[0;34m(\u001b[0m\u001b[0;34m)\u001b[0m\u001b[0;34m\u001b[0m\u001b[0;34m\u001b[0m\u001b[0m\n\u001b[0m",
      "\u001b[0;32m/anaconda3/envs/hck01/lib/python3.7/site-packages/pandas/core/generic.py\u001b[0m in \u001b[0;36m__getattr__\u001b[0;34m(self, name)\u001b[0m\n\u001b[1;32m   5065\u001b[0m             \u001b[0;32mif\u001b[0m \u001b[0mself\u001b[0m\u001b[0;34m.\u001b[0m\u001b[0m_info_axis\u001b[0m\u001b[0;34m.\u001b[0m\u001b[0m_can_hold_identifiers_and_holds_name\u001b[0m\u001b[0;34m(\u001b[0m\u001b[0mname\u001b[0m\u001b[0;34m)\u001b[0m\u001b[0;34m:\u001b[0m\u001b[0;34m\u001b[0m\u001b[0;34m\u001b[0m\u001b[0m\n\u001b[1;32m   5066\u001b[0m                 \u001b[0;32mreturn\u001b[0m \u001b[0mself\u001b[0m\u001b[0;34m[\u001b[0m\u001b[0mname\u001b[0m\u001b[0;34m]\u001b[0m\u001b[0;34m\u001b[0m\u001b[0;34m\u001b[0m\u001b[0m\n\u001b[0;32m-> 5067\u001b[0;31m             \u001b[0;32mreturn\u001b[0m \u001b[0mobject\u001b[0m\u001b[0;34m.\u001b[0m\u001b[0m__getattribute__\u001b[0m\u001b[0;34m(\u001b[0m\u001b[0mself\u001b[0m\u001b[0;34m,\u001b[0m \u001b[0mname\u001b[0m\u001b[0;34m)\u001b[0m\u001b[0;34m\u001b[0m\u001b[0;34m\u001b[0m\u001b[0m\n\u001b[0m\u001b[1;32m   5068\u001b[0m \u001b[0;34m\u001b[0m\u001b[0m\n\u001b[1;32m   5069\u001b[0m     \u001b[0;32mdef\u001b[0m \u001b[0m__setattr__\u001b[0m\u001b[0;34m(\u001b[0m\u001b[0mself\u001b[0m\u001b[0;34m,\u001b[0m \u001b[0mname\u001b[0m\u001b[0;34m,\u001b[0m \u001b[0mvalue\u001b[0m\u001b[0;34m)\u001b[0m\u001b[0;34m:\u001b[0m\u001b[0;34m\u001b[0m\u001b[0;34m\u001b[0m\u001b[0m\n",
      "\u001b[0;31mAttributeError\u001b[0m: 'DataFrame' object has no attribute 'value_counts'"
     ]
    }
   ],
   "source": [
    "X_test.value_counts()"
   ]
  },
  {
   "cell_type": "code",
   "execution_count": 41,
   "metadata": {},
   "outputs": [
    {
     "name": "stdout",
     "output_type": "stream",
     "text": [
      "<class 'pandas.core.frame.DataFrame'>\n",
      "RangeIndex: 522412 entries, 0 to 522411\n",
      "Data columns (total 16 columns):\n",
      "id                    522412 non-null int64\n",
      "timestamp             522412 non-null int64\n",
      "product_id            522412 non-null object\n",
      "product_department    522412 non-null object\n",
      "product_category      522412 non-null object\n",
      "card_id               522412 non-null object\n",
      "user_id               522412 non-null object\n",
      "C15                   522412 non-null int64\n",
      "C16                   522412 non-null int64\n",
      "C17                   522412 non-null int64\n",
      "C18                   522412 non-null int64\n",
      "C19                   522412 non-null int64\n",
      "C20                   522412 non-null int64\n",
      "C21                   522412 non-null int64\n",
      "amount                522412 non-null float64\n",
      "isfraud               522412 non-null int64\n",
      "dtypes: float64(1), int64(10), object(5)\n",
      "memory usage: 63.8+ MB\n"
     ]
    }
   ],
   "source": [
    "X.info()"
   ]
  },
  {
   "cell_type": "code",
   "execution_count": 42,
   "metadata": {},
   "outputs": [],
   "source": [
    "X = X.drop(['id'], axis =1)"
   ]
  },
  {
   "cell_type": "code",
   "execution_count": 45,
   "metadata": {},
   "outputs": [],
   "source": [
    "X_test = X_test.drop(['id'], axis =1)"
   ]
  },
  {
   "cell_type": "code",
   "execution_count": 44,
   "metadata": {},
   "outputs": [
    {
     "data": {
      "text/html": [
       "<div>\n",
       "<style scoped>\n",
       "    .dataframe tbody tr th:only-of-type {\n",
       "        vertical-align: middle;\n",
       "    }\n",
       "\n",
       "    .dataframe tbody tr th {\n",
       "        vertical-align: top;\n",
       "    }\n",
       "\n",
       "    .dataframe thead th {\n",
       "        text-align: right;\n",
       "    }\n",
       "</style>\n",
       "<table border=\"1\" class=\"dataframe\">\n",
       "  <thead>\n",
       "    <tr style=\"text-align: right;\">\n",
       "      <th></th>\n",
       "      <th>timestamp</th>\n",
       "      <th>product_id</th>\n",
       "      <th>product_department</th>\n",
       "      <th>product_category</th>\n",
       "      <th>card_id</th>\n",
       "      <th>user_id</th>\n",
       "      <th>C15</th>\n",
       "      <th>C16</th>\n",
       "      <th>C17</th>\n",
       "      <th>C18</th>\n",
       "      <th>C19</th>\n",
       "      <th>C20</th>\n",
       "      <th>C21</th>\n",
       "      <th>amount</th>\n",
       "      <th>isfraud</th>\n",
       "    </tr>\n",
       "  </thead>\n",
       "  <tbody>\n",
       "    <tr>\n",
       "      <th>0</th>\n",
       "      <td>1413851368636</td>\n",
       "      <td>fa41b2d8</td>\n",
       "      <td>ef5ed6b8</td>\n",
       "      <td>50e219e0</td>\n",
       "      <td>ecad2386</td>\n",
       "      <td>bd544220</td>\n",
       "      <td>300</td>\n",
       "      <td>50</td>\n",
       "      <td>2312</td>\n",
       "      <td>0</td>\n",
       "      <td>167</td>\n",
       "      <td>100075</td>\n",
       "      <td>16</td>\n",
       "      <td>195.65</td>\n",
       "      <td>0</td>\n",
       "    </tr>\n",
       "    <tr>\n",
       "      <th>1</th>\n",
       "      <td>1413851725946</td>\n",
       "      <td>fa41b2d8</td>\n",
       "      <td>ef5ed6b8</td>\n",
       "      <td>50e219e0</td>\n",
       "      <td>ecad2386</td>\n",
       "      <td>bd544220</td>\n",
       "      <td>300</td>\n",
       "      <td>50</td>\n",
       "      <td>2312</td>\n",
       "      <td>0</td>\n",
       "      <td>167</td>\n",
       "      <td>100075</td>\n",
       "      <td>16</td>\n",
       "      <td>195.65</td>\n",
       "      <td>0</td>\n",
       "    </tr>\n",
       "    <tr>\n",
       "      <th>2</th>\n",
       "      <td>1413851873924</td>\n",
       "      <td>fa41b2d8</td>\n",
       "      <td>ef5ed6b8</td>\n",
       "      <td>50e219e0</td>\n",
       "      <td>ecad2386</td>\n",
       "      <td>bd544220</td>\n",
       "      <td>300</td>\n",
       "      <td>50</td>\n",
       "      <td>2312</td>\n",
       "      <td>0</td>\n",
       "      <td>167</td>\n",
       "      <td>100075</td>\n",
       "      <td>16</td>\n",
       "      <td>195.65</td>\n",
       "      <td>0</td>\n",
       "    </tr>\n",
       "    <tr>\n",
       "      <th>3</th>\n",
       "      <td>1413851651534</td>\n",
       "      <td>fa41b2d8</td>\n",
       "      <td>ef5ed6b8</td>\n",
       "      <td>50e219e0</td>\n",
       "      <td>ecad2386</td>\n",
       "      <td>bd544220</td>\n",
       "      <td>300</td>\n",
       "      <td>50</td>\n",
       "      <td>2312</td>\n",
       "      <td>0</td>\n",
       "      <td>167</td>\n",
       "      <td>100075</td>\n",
       "      <td>16</td>\n",
       "      <td>195.65</td>\n",
       "      <td>0</td>\n",
       "    </tr>\n",
       "    <tr>\n",
       "      <th>4</th>\n",
       "      <td>1413853025188</td>\n",
       "      <td>fa41b2d8</td>\n",
       "      <td>ef5ed6b8</td>\n",
       "      <td>50e219e0</td>\n",
       "      <td>ecad2386</td>\n",
       "      <td>bd544220</td>\n",
       "      <td>300</td>\n",
       "      <td>50</td>\n",
       "      <td>2312</td>\n",
       "      <td>0</td>\n",
       "      <td>167</td>\n",
       "      <td>100075</td>\n",
       "      <td>16</td>\n",
       "      <td>195.65</td>\n",
       "      <td>0</td>\n",
       "    </tr>\n",
       "  </tbody>\n",
       "</table>\n",
       "</div>"
      ],
      "text/plain": [
       "       timestamp product_id product_department product_category   card_id  \\\n",
       "0  1413851368636   fa41b2d8           ef5ed6b8         50e219e0  ecad2386   \n",
       "1  1413851725946   fa41b2d8           ef5ed6b8         50e219e0  ecad2386   \n",
       "2  1413851873924   fa41b2d8           ef5ed6b8         50e219e0  ecad2386   \n",
       "3  1413851651534   fa41b2d8           ef5ed6b8         50e219e0  ecad2386   \n",
       "4  1413853025188   fa41b2d8           ef5ed6b8         50e219e0  ecad2386   \n",
       "\n",
       "    user_id  C15  C16   C17  C18  C19     C20  C21  amount  isfraud  \n",
       "0  bd544220  300   50  2312    0  167  100075   16  195.65        0  \n",
       "1  bd544220  300   50  2312    0  167  100075   16  195.65        0  \n",
       "2  bd544220  300   50  2312    0  167  100075   16  195.65        0  \n",
       "3  bd544220  300   50  2312    0  167  100075   16  195.65        0  \n",
       "4  bd544220  300   50  2312    0  167  100075   16  195.65        0  "
      ]
     },
     "execution_count": 44,
     "metadata": {},
     "output_type": "execute_result"
    }
   ],
   "source": [
    "X.head()"
   ]
  },
  {
   "cell_type": "code",
   "execution_count": 51,
   "metadata": {},
   "outputs": [
    {
     "data": {
      "text/plain": [
       "0    16\n",
       "1    16\n",
       "2    16\n",
       "3    16\n",
       "4    16\n",
       "Name: C21, dtype: int64"
      ]
     },
     "execution_count": 51,
     "metadata": {},
     "output_type": "execute_result"
    }
   ],
   "source": [
    "X['C21'].head()"
   ]
  },
  {
   "cell_type": "code",
   "execution_count": 52,
   "metadata": {},
   "outputs": [],
   "source": [
    "X_c21 = X[['C21']]"
   ]
  },
  {
   "cell_type": "code",
   "execution_count": null,
   "metadata": {},
   "outputs": [],
   "source": [
    "from sklearn.ensemble import RandomForestClassifier\n",
    "\n"
   ]
  }
 ],
 "metadata": {
  "kernelspec": {
   "display_name": "Python 3",
   "language": "python",
   "name": "python3"
  },
  "language_info": {
   "codemirror_mode": {
    "name": "ipython",
    "version": 3
   },
   "file_extension": ".py",
   "mimetype": "text/x-python",
   "name": "python",
   "nbconvert_exporter": "python",
   "pygments_lexer": "ipython3",
   "version": "3.7.3"
  }
 },
 "nbformat": 4,
 "nbformat_minor": 2
}
