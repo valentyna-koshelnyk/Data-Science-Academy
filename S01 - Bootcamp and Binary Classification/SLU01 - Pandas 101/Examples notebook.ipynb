{
 "cells": [
  {
   "cell_type": "markdown",
   "metadata": {},
   "source": [
    "# SLU1 - Pandas 101: Examples notebook"
   ]
  },
  {
   "cell_type": "code",
   "execution_count": 1,
   "metadata": {},
   "outputs": [
    {
     "name": "stderr",
     "output_type": "stream",
     "text": [
      "ERROR:root:Internal Python error in the inspect module.\n",
      "Below is the traceback from this internal error.\n",
      "\n"
     ]
    },
    {
     "ename": "OSError",
     "evalue": "[Errno 23] Too many open files in system",
     "output_type": "error",
     "traceback": [
      "\u001b[0;31m---------------------------------------------------------------------------\u001b[0m"
     ]
    },
    {
     "name": "stderr",
     "output_type": "stream",
     "text": [
      "Exception in thread IPythonHistorySavingThread:\n",
      "Traceback (most recent call last):\n",
      "  File \"/anaconda3/envs/slu00/lib/python3.7/site-packages/IPython/core/history.py\", line 834, in run\n",
      "    self.history_manager.writeout_cache(self.db)\n",
      "  File \"</anaconda3/envs/slu00/lib/python3.7/site-packages/decorator.py:decorator-gen-23>\", line 2, in writeout_cache\n",
      "  File \"/anaconda3/envs/slu00/lib/python3.7/site-packages/IPython/core/history.py\", line 58, in needs_sqlite\n",
      "    return f(self, *a, **kw)\n",
      "  File \"/anaconda3/envs/slu00/lib/python3.7/site-packages/IPython/core/history.py\", line 780, in writeout_cache\n",
      "    self._writeout_input_cache(conn)\n",
      "  File \"/anaconda3/envs/slu00/lib/python3.7/site-packages/IPython/core/history.py\", line 764, in _writeout_input_cache\n",
      "    (self.session_number,)+line)\n",
      "sqlite3.OperationalError: unable to open database file\n",
      "\n",
      "During handling of the above exception, another exception occurred:\n",
      "\n",
      "Traceback (most recent call last):\n",
      "  File \"/anaconda3/envs/slu00/lib/python3.7/site-packages/ipykernel/iostream.py\", line 97, in _event_pipe\n",
      "    event_pipe = self._local.event_pipe\n",
      "AttributeError: '_thread._local' object has no attribute 'event_pipe'\n",
      "\n",
      "During handling of the above exception, another exception occurred:\n",
      "\n",
      "Traceback (most recent call last):\n",
      "  File \"/anaconda3/envs/slu00/lib/python3.7/threading.py\", line 917, in _bootstrap_inner\n",
      "  File \"</anaconda3/envs/slu00/lib/python3.7/site-packages/decorator.py:decorator-gen-24>\", line 2, in run\n",
      "  File \"/anaconda3/envs/slu00/lib/python3.7/site-packages/IPython/core/history.py\", line 58, in needs_sqlite\n",
      "    return f(self, *a, **kw)\n",
      "  File \"/anaconda3/envs/slu00/lib/python3.7/site-packages/IPython/core/history.py\", line 837, in run\n",
      "    \"History will not be written to the database.\") % repr(e))\n",
      "  File \"/anaconda3/envs/slu00/lib/python3.7/site-packages/ipykernel/iostream.py\", line 400, in write\n",
      "    self.pub_thread.schedule(lambda : self._buffer.write(string))\n",
      "  File \"/anaconda3/envs/slu00/lib/python3.7/site-packages/ipykernel/iostream.py\", line 203, in schedule\n",
      "    self._event_pipe.send(b'')\n",
      "  File \"/anaconda3/envs/slu00/lib/python3.7/site-packages/ipykernel/iostream.py\", line 101, in _event_pipe\n",
      "    event_pipe = ctx.socket(zmq.PUSH)\n",
      "  File \"/anaconda3/envs/slu00/lib/python3.7/site-packages/zmq/sugar/context.py\", line 146, in socket\n",
      "    s = self._socket_class(self, socket_type, **kwargs)\n",
      "  File \"/anaconda3/envs/slu00/lib/python3.7/site-packages/zmq/sugar/socket.py\", line 59, in __init__\n",
      "    super(Socket, self).__init__(*a, **kw)\n",
      "  File \"zmq/backend/cython/socket.pyx\", line 328, in zmq.backend.cython.socket.Socket.__init__\n",
      "zmq.error.ZMQError: Too many open files in system\n",
      "\n",
      "ERROR:tornado.general:Uncaught exception in ZMQStream callback\n",
      "Traceback (most recent call last):\n",
      "  File \"/anaconda3/envs/slu00/lib/python3.7/site-packages/ipykernel/iostream.py\", line 97, in _event_pipe\n",
      "    event_pipe = self._local.event_pipe\n",
      "AttributeError: '_thread._local' object has no attribute 'event_pipe'\n",
      "\n",
      "During handling of the above exception, another exception occurred:\n",
      "\n",
      "Traceback (most recent call last):\n",
      "  File \"/anaconda3/envs/slu00/lib/python3.7/site-packages/zmq/eventloop/zmqstream.py\", line 438, in _run_callback\n",
      "    callback(*args, **kwargs)\n",
      "  File \"/anaconda3/envs/slu00/lib/python3.7/site-packages/ipykernel/iostream.py\", line 120, in _handle_event\n",
      "    event_f()\n",
      "  File \"/anaconda3/envs/slu00/lib/python3.7/site-packages/ipykernel/iostream.py\", line 380, in _flush\n",
      "    parent=self.parent_header, ident=self.topic)\n",
      "  File \"/anaconda3/envs/slu00/lib/python3.7/site-packages/jupyter_client/session.py\", line 748, in send\n",
      "    stream.send_multipart(to_send, copy=copy)\n",
      "  File \"/anaconda3/envs/slu00/lib/python3.7/site-packages/ipykernel/iostream.py\", line 212, in send_multipart\n",
      "    self.schedule(lambda : self._really_send(*args, **kwargs))\n",
      "  File \"/anaconda3/envs/slu00/lib/python3.7/site-packages/ipykernel/iostream.py\", line 203, in schedule\n",
      "    self._event_pipe.send(b'')\n",
      "  File \"/anaconda3/envs/slu00/lib/python3.7/site-packages/ipykernel/iostream.py\", line 101, in _event_pipe\n",
      "    event_pipe = ctx.socket(zmq.PUSH)\n",
      "  File \"/anaconda3/envs/slu00/lib/python3.7/site-packages/zmq/sugar/context.py\", line 146, in socket\n",
      "    s = self._socket_class(self, socket_type, **kwargs)\n",
      "  File \"/anaconda3/envs/slu00/lib/python3.7/site-packages/zmq/sugar/socket.py\", line 59, in __init__\n",
      "    super(Socket, self).__init__(*a, **kw)\n",
      "  File \"zmq/backend/cython/socket.pyx\", line 328, in zmq.backend.cython.socket.Socket.__init__\n",
      "zmq.error.ZMQError: Too many open files in system\n"
     ]
    },
    {
     "name": "stdout",
     "output_type": "stream",
     "text": [
      "The history saving thread hit an unexpected error (OperationalError('unable to open database file')).History will not be written to the database.Traceback (most recent call last):\n",
      "  File \"/anaconda3/envs/slu00/lib/python3.7/site-packages/IPython/core/interactiveshell.py\", line 3325, in run_code\n",
      "    exec(code_obj, self.user_global_ns, self.user_ns)\n",
      "  File \"<ipython-input-1-7dd3504c366f>\", line 1, in <module>\n",
      "    import pandas as pd\n",
      "  File \"<frozen importlib._bootstrap>\", line 983, in _find_and_load\n",
      "  File \"<frozen importlib._bootstrap>\", line 963, in _find_and_load_unlocked\n",
      "  File \"<frozen importlib._bootstrap>\", line 906, in _find_spec\n",
      "  File \"<frozen importlib._bootstrap_external>\", line 1280, in find_spec\n",
      "  File \"<frozen importlib._bootstrap_external>\", line 1249, in _get_spec\n",
      "  File \"<frozen importlib._bootstrap_external>\", line 1213, in _path_importer_cache\n",
      "OSError: [Errno 23] Too many open files in system\n",
      "\n",
      "During handling of the above exception, another exception occurred:\n",
      "\n",
      "Traceback (most recent call last):\n",
      "  File \"/anaconda3/envs/slu00/lib/python3.7/site-packages/IPython/core/interactiveshell.py\", line 2039, in showtraceback\n",
      "    stb = value._render_traceback_()\n",
      "AttributeError: 'OSError' object has no attribute '_render_traceback_'\n",
      "\n",
      "During handling of the above exception, another exception occurred:\n",
      "\n",
      "Traceback (most recent call last):\n",
      "  File \"/anaconda3/envs/slu00/lib/python3.7/site-packages/IPython/core/ultratb.py\", line 1101, in get_records\n",
      "    return _fixed_getinnerframes(etb, number_of_lines_of_context, tb_offset)\n",
      "  File \"/anaconda3/envs/slu00/lib/python3.7/site-packages/IPython/core/ultratb.py\", line 319, in wrapped\n",
      "    return f(*args, **kwargs)\n",
      "  File \"/anaconda3/envs/slu00/lib/python3.7/site-packages/IPython/core/ultratb.py\", line 353, in _fixed_getinnerframes\n",
      "    records = fix_frame_records_filenames(inspect.getinnerframes(etb, context))\n",
      "  File \"/anaconda3/envs/slu00/lib/python3.7/inspect.py\", line 1502, in getinnerframes\n",
      "    frameinfo = (tb.tb_frame,) + getframeinfo(tb, context)\n",
      "  File \"/anaconda3/envs/slu00/lib/python3.7/inspect.py\", line 1460, in getframeinfo\n",
      "    filename = getsourcefile(frame) or getfile(frame)\n",
      "  File \"/anaconda3/envs/slu00/lib/python3.7/inspect.py\", line 696, in getsourcefile\n",
      "    if getattr(getmodule(object, filename), '__loader__', None) is not None:\n",
      "  File \"/anaconda3/envs/slu00/lib/python3.7/inspect.py\", line 725, in getmodule\n",
      "    file = getabsfile(object, _filename)\n",
      "  File \"/anaconda3/envs/slu00/lib/python3.7/inspect.py\", line 709, in getabsfile\n",
      "    return os.path.normcase(os.path.abspath(_filename))\n",
      "  File \"/anaconda3/envs/slu00/lib/python3.7/posixpath.py\", line 383, in abspath\n",
      "    cwd = os.getcwd()\n",
      "OSError: [Errno 23] Too many open files in system\n"
     ]
    },
    {
     "name": "stderr",
     "output_type": "stream",
     "text": [
      "ERROR:tornado.general:Uncaught exception in zmqstream callback\n",
      "Traceback (most recent call last):\n",
      "  File \"/anaconda3/envs/slu00/lib/python3.7/site-packages/ipykernel/iostream.py\", line 97, in _event_pipe\n",
      "    event_pipe = self._local.event_pipe\n",
      "AttributeError: '_thread._local' object has no attribute 'event_pipe'\n",
      "\n",
      "During handling of the above exception, another exception occurred:\n",
      "\n",
      "Traceback (most recent call last):\n",
      "  File \"/anaconda3/envs/slu00/lib/python3.7/site-packages/zmq/eventloop/zmqstream.py\", line 456, in _handle_events\n",
      "    self._handle_recv()\n",
      "  File \"/anaconda3/envs/slu00/lib/python3.7/site-packages/zmq/eventloop/zmqstream.py\", line 486, in _handle_recv\n",
      "    self._run_callback(callback, msg)\n",
      "  File \"/anaconda3/envs/slu00/lib/python3.7/site-packages/zmq/eventloop/zmqstream.py\", line 438, in _run_callback\n",
      "    callback(*args, **kwargs)\n",
      "  File \"/anaconda3/envs/slu00/lib/python3.7/site-packages/ipykernel/iostream.py\", line 120, in _handle_event\n",
      "    event_f()\n",
      "  File \"/anaconda3/envs/slu00/lib/python3.7/site-packages/ipykernel/iostream.py\", line 380, in _flush\n",
      "    parent=self.parent_header, ident=self.topic)\n",
      "  File \"/anaconda3/envs/slu00/lib/python3.7/site-packages/jupyter_client/session.py\", line 748, in send\n",
      "    stream.send_multipart(to_send, copy=copy)\n",
      "  File \"/anaconda3/envs/slu00/lib/python3.7/site-packages/ipykernel/iostream.py\", line 212, in send_multipart\n",
      "    self.schedule(lambda : self._really_send(*args, **kwargs))\n",
      "  File \"/anaconda3/envs/slu00/lib/python3.7/site-packages/ipykernel/iostream.py\", line 203, in schedule\n",
      "    self._event_pipe.send(b'')\n",
      "  File \"/anaconda3/envs/slu00/lib/python3.7/site-packages/ipykernel/iostream.py\", line 101, in _event_pipe\n",
      "    event_pipe = ctx.socket(zmq.PUSH)\n",
      "  File \"/anaconda3/envs/slu00/lib/python3.7/site-packages/zmq/sugar/context.py\", line 146, in socket\n",
      "    s = self._socket_class(self, socket_type, **kwargs)\n",
      "  File \"/anaconda3/envs/slu00/lib/python3.7/site-packages/zmq/sugar/socket.py\", line 59, in __init__\n",
      "    super(Socket, self).__init__(*a, **kw)\n",
      "  File \"zmq/backend/cython/socket.pyx\", line 328, in zmq.backend.cython.socket.Socket.__init__\n",
      "zmq.error.ZMQError: Too many open files in system\n",
      "ERROR:tornado.application:Exception in callback functools.partial(<function ZMQStream._update_handler.<locals>.<lambda> at 0x10c1957b8>)\n",
      "Traceback (most recent call last):\n",
      "  File \"/anaconda3/envs/slu00/lib/python3.7/site-packages/ipykernel/iostream.py\", line 97, in _event_pipe\n",
      "    event_pipe = self._local.event_pipe\n",
      "AttributeError: '_thread._local' object has no attribute 'event_pipe'\n",
      "\n",
      "During handling of the above exception, another exception occurred:\n",
      "\n",
      "Traceback (most recent call last):\n",
      "  File \"/anaconda3/envs/slu00/lib/python3.7/site-packages/tornado/ioloop.py\", line 743, in _run_callback\n",
      "    ret = callback()\n",
      "  File \"/anaconda3/envs/slu00/lib/python3.7/site-packages/zmq/eventloop/zmqstream.py\", line 542, in <lambda>\n",
      "    self.io_loop.add_callback(lambda : self._handle_events(self.socket, 0))\n",
      "  File \"/anaconda3/envs/slu00/lib/python3.7/site-packages/zmq/eventloop/zmqstream.py\", line 456, in _handle_events\n",
      "    self._handle_recv()\n",
      "  File \"/anaconda3/envs/slu00/lib/python3.7/site-packages/zmq/eventloop/zmqstream.py\", line 486, in _handle_recv\n",
      "    self._run_callback(callback, msg)\n",
      "  File \"/anaconda3/envs/slu00/lib/python3.7/site-packages/zmq/eventloop/zmqstream.py\", line 438, in _run_callback\n",
      "    callback(*args, **kwargs)\n",
      "  File \"/anaconda3/envs/slu00/lib/python3.7/site-packages/ipykernel/iostream.py\", line 120, in _handle_event\n",
      "    event_f()\n",
      "  File \"/anaconda3/envs/slu00/lib/python3.7/site-packages/ipykernel/iostream.py\", line 380, in _flush\n",
      "    parent=self.parent_header, ident=self.topic)\n",
      "  File \"/anaconda3/envs/slu00/lib/python3.7/site-packages/jupyter_client/session.py\", line 748, in send\n",
      "    stream.send_multipart(to_send, copy=copy)\n",
      "  File \"/anaconda3/envs/slu00/lib/python3.7/site-packages/ipykernel/iostream.py\", line 212, in send_multipart\n",
      "    self.schedule(lambda : self._really_send(*args, **kwargs))\n",
      "  File \"/anaconda3/envs/slu00/lib/python3.7/site-packages/ipykernel/iostream.py\", line 203, in schedule\n",
      "    self._event_pipe.send(b'')\n",
      "  File \"/anaconda3/envs/slu00/lib/python3.7/site-packages/ipykernel/iostream.py\", line 101, in _event_pipe\n",
      "    event_pipe = ctx.socket(zmq.PUSH)\n",
      "  File \"/anaconda3/envs/slu00/lib/python3.7/site-packages/zmq/sugar/context.py\", line 146, in socket\n",
      "    s = self._socket_class(self, socket_type, **kwargs)\n",
      "  File \"/anaconda3/envs/slu00/lib/python3.7/site-packages/zmq/sugar/socket.py\", line 59, in __init__\n",
      "    super(Socket, self).__init__(*a, **kw)\n",
      "  File \"zmq/backend/cython/socket.pyx\", line 328, in zmq.backend.cython.socket.Socket.__init__\n",
      "zmq.error.ZMQError: Too many open files in system\n"
     ]
    }
   ],
   "source": [
    "import pandas as pd"
   ]
  },
  {
   "cell_type": "markdown",
   "metadata": {},
   "source": [
    "### Create a pandas Series with some countries, capital and population"
   ]
  },
  {
   "cell_type": "code",
   "execution_count": null,
   "metadata": {},
   "outputs": [],
   "source": [
    "countries = pd.Series(['Denmark', 'Finland', 'Iceland', 'Norway', 'Greenland', 'Faroe Islands'])\n",
    "capitals = pd.Series(['Copenhagen', 'Helsinki', 'Reykjavík', 'Oslo', 'Nuuk', 'Tórshavn'])\n",
    "pop = pd.Series([5724456, 5498211, 335878, 5265158,56483,49188])"
   ]
  },
  {
   "cell_type": "markdown",
   "metadata": {},
   "source": [
    "### Creating a pandas DataFrame"
   ]
  },
  {
   "cell_type": "code",
   "execution_count": null,
   "metadata": {},
   "outputs": [],
   "source": [
    "nordic_countries = pd.DataFrame({'Country': countries, 'Capital': capitals, 'Population':pop})"
   ]
  },
  {
   "cell_type": "code",
   "execution_count": null,
   "metadata": {},
   "outputs": [],
   "source": [
    "nordic_countries"
   ]
  },
  {
   "cell_type": "markdown",
   "metadata": {},
   "source": [
    "### Load a file "
   ]
  },
  {
   "cell_type": "markdown",
   "metadata": {},
   "source": [
    "`pd.read_csv(filepath)`"
   ]
  },
  {
   "cell_type": "markdown",
   "metadata": {},
   "source": [
    "This filepath is specific to the file you want and depends on where you currently are "
   ]
  },
  {
   "cell_type": "code",
   "execution_count": null,
   "metadata": {
    "scrolled": true
   },
   "outputs": [],
   "source": [
    "iris = pd.read_csv('data/iris.csv')"
   ]
  },
  {
   "cell_type": "markdown",
   "metadata": {},
   "source": [
    "### Info about the DataFrame"
   ]
  },
  {
   "cell_type": "code",
   "execution_count": null,
   "metadata": {
    "scrolled": true
   },
   "outputs": [],
   "source": [
    "iris.info()"
   ]
  },
  {
   "cell_type": "markdown",
   "metadata": {},
   "source": [
    "### Printing the top 10 entries"
   ]
  },
  {
   "cell_type": "code",
   "execution_count": null,
   "metadata": {},
   "outputs": [],
   "source": [
    "iris.head(10)"
   ]
  },
  {
   "cell_type": "markdown",
   "metadata": {},
   "source": [
    "### Printing the bottom 10 entries"
   ]
  },
  {
   "cell_type": "code",
   "execution_count": null,
   "metadata": {},
   "outputs": [],
   "source": [
    "iris.tail(10)"
   ]
  },
  {
   "cell_type": "markdown",
   "metadata": {},
   "source": [
    "### Shape of the DataFrame"
   ]
  },
  {
   "cell_type": "code",
   "execution_count": null,
   "metadata": {},
   "outputs": [],
   "source": [
    "iris.shape"
   ]
  },
  {
   "cell_type": "code",
   "execution_count": null,
   "metadata": {},
   "outputs": [],
   "source": [
    "nr_rows = iris.shape[0]\n",
    "nr_cols = iris.shape[1]"
   ]
  },
  {
   "cell_type": "markdown",
   "metadata": {},
   "source": [
    "### Get more information about the numerical features"
   ]
  },
  {
   "cell_type": "code",
   "execution_count": null,
   "metadata": {},
   "outputs": [],
   "source": [
    "iris.describe()"
   ]
  },
  {
   "cell_type": "code",
   "execution_count": null,
   "metadata": {},
   "outputs": [],
   "source": []
  },
  {
   "cell_type": "code",
   "execution_count": null,
   "metadata": {},
   "outputs": [],
   "source": []
  }
 ],
 "metadata": {
  "kernelspec": {
   "display_name": "Python 3",
   "language": "python",
   "name": "python3"
  },
  "language_info": {
   "codemirror_mode": {
    "name": "ipython",
    "version": 3
   },
   "file_extension": ".py",
   "mimetype": "text/x-python",
   "name": "python",
   "nbconvert_exporter": "python",
   "pygments_lexer": "ipython3",
   "version": "3.7.3"
  }
 },
 "nbformat": 4,
 "nbformat_minor": 2
}
