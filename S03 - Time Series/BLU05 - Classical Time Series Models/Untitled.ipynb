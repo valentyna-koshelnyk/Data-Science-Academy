{
 "cells": [
  {
   "cell_type": "code",
   "execution_count": null,
   "metadata": {},
   "outputs": [],
   "source": [
    "# results = \n",
    "# predictions = \n",
    "# predicted_mean = \n",
    "# predicted_mean_delogged = \n",
    "# mae =\n",
    "\n",
    "# YOUR CODE HERE\n",
    "model = SARIMAX(emissions_train_log,             # <-- holy crap just passed it pandas? No \".values\"? No .diff?\n",
    "                          order=(1, 0, 1),              # <-- keeping our order as before\n",
    "                          seasonal_order=(1, 0, 1, 12),\n",
    "                          enforce_stationarity=False,\n",
    "                          enforce_invertibility=False)\n",
    "results = model.fit(maxiter=500)\n",
    "predictions = results.get_forecast(steps=prediction_window)\n",
    "predicted_mean = predictions.predicted_mean\n",
    "predicted_mean_delogged = np.exp(predicted_mean)\n",
    "mae = get_mae(emissions_train_log, best_params_multistep,prediction_window = 36)\n",
    "predicted_mean.shape"
   ]
  },
  {
   "cell_type": "code",
   "execution_count": null,
   "metadata": {},
   "outputs": [],
   "source": []
  }
 ],
 "metadata": {
  "kernelspec": {
   "display_name": "Python 3",
   "language": "python",
   "name": "python3"
  },
  "language_info": {
   "codemirror_mode": {
    "name": "ipython",
    "version": 3
   },
   "file_extension": ".py",
   "mimetype": "text/x-python",
   "name": "python",
   "nbconvert_exporter": "python",
   "pygments_lexer": "ipython3",
   "version": "3.7.3"
  }
 },
 "nbformat": 4,
 "nbformat_minor": 2
}
